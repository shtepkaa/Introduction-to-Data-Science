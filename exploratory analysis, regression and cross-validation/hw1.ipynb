{
 "cells": [
  {
   "cell_type": "markdown",
   "metadata": {},
   "source": [
    "# Assignment 1. House Pricing.\n",
    "\n",
    "You are given a dataset of house prices.\n",
    "\n",
    "Your goal is two fold:\n",
    "1. Perform exhaustive Exploratory Data Analysis (EDA)\n",
    "2. Build a simple machine learning model (regression) using appropriate cross-validation procedure. Task is to predict **house price**.\n",
    "\n",
    "This notebook will guide you through, let's start!\n",
    "\n",
    "----"
   ]
  },
  {
   "cell_type": "markdown",
   "metadata": {},
   "source": [
    "We are using house sale price data from King County, Wahington, USA. This dataset is in public domain and can be obtained from Kaggle: https://www.kaggle.com/harlfoxem/housesalesprediction\n",
    "\n",
    "Alternatively, from here: https://github.com/dbendet/coursera_machine_learning/blob/master/kc_house_data.csv\n",
    "\n",
    "You need to place `kc_nouse_data.csv` file in the same directory as this notebook."
   ]
  },
  {
   "cell_type": "code",
   "execution_count": null,
   "metadata": {},
   "outputs": [],
   "source": [
    "import pandas as pd\n",
    "import numpy as np\n",
    "import matplotlib.pyplot as plt\n",
    "%matplotlib inline"
   ]
  },
  {
   "cell_type": "markdown",
   "metadata": {},
   "source": [
    "### 1. Loading data\n",
    "\n",
    "As always in Data Science you are starting with making nice cup of tea (or coffee). Your next move is to load the data:\n",
    "\n",
    "- Start with loading `house_data.csv` file using `pd.read_csv()` function. Store the loaded data in the `data` variable\n",
    "- You may also want to increase maximal displayed pandas columns: set `pd.options.display.max_columns` to 30\n",
    "- Print top 10 observations in the table.\n",
    "- Print last 10 observations in the table.\n",
    "- Print all the data columns names using method `.columns`\n",
    "- Print data size (number of rows and columns)\n",
    "\n",
    "**Hint 1** Every Python has a `head` and a `tail` just as DataFrames do."
   ]
  },
  {
   "cell_type": "code",
   "execution_count": null,
   "metadata": {
    "deletable": false,
    "nbgrader": {
     "cell_type": "code",
     "checksum": "88db00107d9aac9254b76b63bfb2c941",
     "grade": false,
     "grade_id": "cell-01e4893e69a9bef9",
     "locked": false,
     "schema_version": 3,
     "solution": true,
     "task": false
    }
   },
   "outputs": [],
   "source": [
    "# Load the data\n",
    "\n",
    "# your code here"
   ]
  },
  {
   "cell_type": "code",
   "execution_count": null,
   "metadata": {
    "deletable": false,
    "nbgrader": {
     "cell_type": "code",
     "checksum": "77eee1634a76f86a1076e9b47bbcf628",
     "grade": false,
     "grade_id": "cell-f2760c0d90c2cc90",
     "locked": false,
     "schema_version": 3,
     "solution": true,
     "task": false
    }
   },
   "outputs": [],
   "source": [
    "# Observe top 10 observations\n",
    "\n",
    "# your code here"
   ]
  },
  {
   "cell_type": "code",
   "execution_count": null,
   "metadata": {
    "deletable": false,
    "nbgrader": {
     "cell_type": "code",
     "checksum": "50fc2b3f6848fc5cc86e8eeee6d2f474",
     "grade": false,
     "grade_id": "cell-601617e47da1519d",
     "locked": false,
     "schema_version": 3,
     "solution": true,
     "task": false
    }
   },
   "outputs": [],
   "source": [
    "# Observe last 10 observations\n",
    "\n",
    "# your code here"
   ]
  },
  {
   "cell_type": "code",
   "execution_count": null,
   "metadata": {
    "deletable": false,
    "nbgrader": {
     "cell_type": "code",
     "checksum": "74263dc11180609c027a4663ae6ae05e",
     "grade": false,
     "grade_id": "cell-0c49416155ed904e",
     "locked": false,
     "schema_version": 3,
     "solution": true,
     "task": false
    }
   },
   "outputs": [],
   "source": [
    "# Increase maximal displayed columns\n",
    "\n",
    "# your code here"
   ]
  },
  {
   "cell_type": "code",
   "execution_count": null,
   "metadata": {
    "deletable": false,
    "nbgrader": {
     "cell_type": "code",
     "checksum": "c8953296804bee248e6e92c6f359c332",
     "grade": false,
     "grade_id": "cell-461cce663bcdd494",
     "locked": false,
     "schema_version": 3,
     "solution": true,
     "task": false
    }
   },
   "outputs": [],
   "source": [
    "# Observe top 10 observations again\n",
    "\n",
    "# your code here"
   ]
  },
  {
   "cell_type": "code",
   "execution_count": null,
   "metadata": {
    "deletable": false,
    "nbgrader": {
     "cell_type": "code",
     "checksum": "d896c98f37549dd5794b64a15f83c44b",
     "grade": false,
     "grade_id": "cell-c51106738dcb6fd4",
     "locked": false,
     "schema_version": 3,
     "solution": true,
     "task": false
    }
   },
   "outputs": [],
   "source": [
    "# That's an an example of graded cell.\n",
    "# Important: the name of the variable should be exactly the same as prefilled one \n",
    "# [Graded] Create a variable containing all the columns/features names\n",
    "\n",
    "data_columns = '...'\n",
    "\n",
    "# your code here"
   ]
  },
  {
   "cell_type": "code",
   "execution_count": null,
   "metadata": {
    "deletable": false,
    "editable": false,
    "nbgrader": {
     "cell_type": "code",
     "checksum": "0c90995b101449b3b40b0b1f81847693",
     "grade": true,
     "grade_id": "cell-2644f8c46ed03fac",
     "locked": true,
     "points": 1,
     "schema_version": 3,
     "solution": false,
     "task": false
    }
   },
   "outputs": [],
   "source": [
    "# Grading"
   ]
  },
  {
   "cell_type": "code",
   "execution_count": null,
   "metadata": {
    "deletable": false,
    "nbgrader": {
     "cell_type": "code",
     "checksum": "02417ce2c24f22d708554a2846bd4093",
     "grade": false,
     "grade_id": "cell-874b815ccc863cc0",
     "locked": false,
     "schema_version": 3,
     "solution": true,
     "task": false
    }
   },
   "outputs": [],
   "source": [
    "# [Graded] Create a variable containing the shape of the data matrix\n",
    "\n",
    "data_shape = '...'\n",
    "\n",
    "# your code here"
   ]
  },
  {
   "cell_type": "code",
   "execution_count": null,
   "metadata": {
    "deletable": false,
    "editable": false,
    "nbgrader": {
     "cell_type": "code",
     "checksum": "1f997a7b267e0f1846ee0df7a5a7d51c",
     "grade": true,
     "grade_id": "cell-36dad30f82927ff5",
     "locked": true,
     "points": 1,
     "schema_version": 3,
     "solution": false,
     "task": false
    }
   },
   "outputs": [],
   "source": [
    "# Grading"
   ]
  },
  {
   "cell_type": "markdown",
   "metadata": {},
   "source": [
    "### 2. Simple statistics\n",
    "\n",
    "Lets do some basics:\n",
    "- Count number of not NaN's in every column.\n",
    "- Is there any missing values in the data?\n",
    "- Count number of unique values in every column. \n",
    "- What does this tell you about the features, which are most likely categorical and which are most likely numerical?\n",
    "- Use pandas `.describe()` to display basic statistic about the data.\n",
    "- Could you spot any sucpicious columns?"
   ]
  },
  {
   "cell_type": "code",
   "execution_count": null,
   "metadata": {
    "deletable": false,
    "nbgrader": {
     "cell_type": "code",
     "checksum": "8ab765d0465d75056533a249a2d94104",
     "grade": false,
     "grade_id": "cell-63a2b11bca9b474e",
     "locked": false,
     "schema_version": 3,
     "solution": true,
     "task": false
    }
   },
   "outputs": [],
   "source": [
    "# Count number of not NaN's in every column\n",
    "\n",
    "# your code here"
   ]
  },
  {
   "cell_type": "code",
   "execution_count": null,
   "metadata": {
    "deletable": false,
    "nbgrader": {
     "cell_type": "code",
     "checksum": "7835bce500deab82015d16a62cfcfbec",
     "grade": false,
     "grade_id": "cell-7b2f4c812401feec",
     "locked": false,
     "schema_version": 3,
     "solution": true,
     "task": false
    }
   },
   "outputs": [],
   "source": [
    "# [Graded] How many columns have missing values in them?\n",
    "\n",
    "n_missing = '...'\n",
    "\n",
    "# your code here"
   ]
  },
  {
   "cell_type": "code",
   "execution_count": null,
   "metadata": {
    "deletable": false,
    "editable": false,
    "nbgrader": {
     "cell_type": "code",
     "checksum": "e51c66dec3d0b84c7002ce09fde32a65",
     "grade": true,
     "grade_id": "cell-e07e3fef9017a5ee",
     "locked": true,
     "points": 1,
     "schema_version": 3,
     "solution": false,
     "task": false
    }
   },
   "outputs": [],
   "source": [
    "# Grading\n"
   ]
  },
  {
   "cell_type": "code",
   "execution_count": null,
   "metadata": {
    "deletable": false,
    "nbgrader": {
     "cell_type": "code",
     "checksum": "f8814274168cc30e2b792f0250a5b567",
     "grade": false,
     "grade_id": "cell-0174925c57380b90",
     "locked": false,
     "schema_version": 3,
     "solution": true,
     "task": false
    }
   },
   "outputs": [],
   "source": [
    "# Count number of unique values in every column\n",
    "\n",
    "# your code here"
   ]
  },
  {
   "cell_type": "code",
   "execution_count": null,
   "metadata": {
    "deletable": false,
    "nbgrader": {
     "cell_type": "code",
     "checksum": "9ba8f9a6cc6a8ac81897c1fad1b0294d",
     "grade": false,
     "grade_id": "cell-6ad9385669a931bb",
     "locked": false,
     "schema_version": 3,
     "solution": true,
     "task": false
    }
   },
   "outputs": [],
   "source": [
    "# [Graded] What feature has the lowest number of unique values?\n",
    "\n",
    "n_unique_min = \"...\"\n",
    "\n",
    "# your code here"
   ]
  },
  {
   "cell_type": "code",
   "execution_count": null,
   "metadata": {
    "deletable": false,
    "editable": false,
    "nbgrader": {
     "cell_type": "code",
     "checksum": "f1cc533ca2f39f4562ec73baac455879",
     "grade": true,
     "grade_id": "cell-58f9c3be5927302f",
     "locked": true,
     "points": 1,
     "schema_version": 3,
     "solution": false,
     "task": false
    }
   },
   "outputs": [],
   "source": [
    "# Grading"
   ]
  },
  {
   "cell_type": "code",
   "execution_count": null,
   "metadata": {
    "deletable": false,
    "nbgrader": {
     "cell_type": "code",
     "checksum": "b311c8af30cb52e5bbd50a896c1b46bc",
     "grade": false,
     "grade_id": "cell-7ff4f6d88f2035e7",
     "locked": false,
     "schema_version": 3,
     "solution": true,
     "task": false
    }
   },
   "outputs": [],
   "source": [
    "# Display basic data statistics\n",
    "\n",
    "# your code here"
   ]
  },
  {
   "cell_type": "code",
   "execution_count": null,
   "metadata": {},
   "outputs": [],
   "source": []
  },
  {
   "cell_type": "markdown",
   "metadata": {},
   "source": [
    "### 3. Not so simple statistics\n",
    "\n",
    "You have heard that **correlation** has something to do with feature predictiveness or, not?\n",
    "Any way you decided to print correlation between every column in your data:\n",
    "\n",
    "- Create a table of pairwise correlations between columns. Store it in the `correlation` variable\n",
    "- What could you say about size of this table?\n",
    "- Is there any missing columns? Why?\n",
    "- Which features are mostly correlated with the `price`?\n",
    "\n",
    "**Hint 1** Try out this method https://pandas.pydata.org/pandas-docs/stable/reference/api/pandas.DataFrame.corr.html\n",
    "\n",
    "**Hint 2** You could actually save the result to another variable, to check its properties!"
   ]
  },
  {
   "cell_type": "code",
   "execution_count": null,
   "metadata": {
    "deletable": false,
    "nbgrader": {
     "cell_type": "code",
     "checksum": "74b185c5d272c1be6bb6997916da50b3",
     "grade": false,
     "grade_id": "cell-7fd9121a8d9df7df",
     "locked": false,
     "schema_version": 3,
     "solution": true,
     "task": false
    }
   },
   "outputs": [],
   "source": [
    "# Create a correlation matrix\n",
    "\n",
    "# your code here"
   ]
  },
  {
   "cell_type": "code",
   "execution_count": null,
   "metadata": {
    "deletable": false,
    "nbgrader": {
     "cell_type": "code",
     "checksum": "073dda122ff16d44f638a4ad8e9f8c49",
     "grade": false,
     "grade_id": "cell-bc12244662d3892d",
     "locked": false,
     "schema_version": 3,
     "solution": true,
     "task": false
    }
   },
   "outputs": [],
   "source": [
    "# [Graded] What is the shape of the correlation matrix? Output a list or a tuple containing it's dimensions\n",
    "\n",
    "correlation_shape = \"...\"\n",
    "\n",
    "# your code here"
   ]
  },
  {
   "cell_type": "code",
   "execution_count": null,
   "metadata": {
    "deletable": false,
    "editable": false,
    "nbgrader": {
     "cell_type": "code",
     "checksum": "65f8dcab6496ab6c217ac2bad7735341",
     "grade": true,
     "grade_id": "cell-8b379ea7f1db82bc",
     "locked": true,
     "points": 1,
     "schema_version": 3,
     "solution": false,
     "task": false
    }
   },
   "outputs": [],
   "source": [
    "# Grading\n"
   ]
  },
  {
   "cell_type": "code",
   "execution_count": null,
   "metadata": {
    "deletable": false,
    "nbgrader": {
     "cell_type": "code",
     "checksum": "bd4424b79531f634bb7d0dc937f0e480",
     "grade": false,
     "grade_id": "cell-59394f70ad6277ab",
     "locked": false,
     "schema_version": 3,
     "solution": true,
     "task": false
    }
   },
   "outputs": [],
   "source": [
    "# Print its columns\n",
    "\n",
    "# your code here"
   ]
  },
  {
   "cell_type": "code",
   "execution_count": null,
   "metadata": {
    "deletable": false,
    "nbgrader": {
     "cell_type": "code",
     "checksum": "0b9aa52379b6273b9a00f2eb2a5bcbaa",
     "grade": false,
     "grade_id": "cell-afe9f914b321bd29",
     "locked": false,
     "schema_version": 3,
     "solution": true,
     "task": false
    }
   },
   "outputs": [],
   "source": [
    "# Print columns of the original data, what's missing, why?\n",
    "\n",
    "# your code here"
   ]
  },
  {
   "cell_type": "code",
   "execution_count": null,
   "metadata": {
    "deletable": false,
    "nbgrader": {
     "cell_type": "code",
     "checksum": "c619c83d5c76ab9c5cd36123f7d2a398",
     "grade": false,
     "grade_id": "cell-0792e5dd816bd488",
     "locked": false,
     "schema_version": 3,
     "solution": true,
     "task": false
    }
   },
   "outputs": [],
   "source": [
    "# [Graded] Provide the name of the missing column\n",
    "\n",
    "missing_column = '...'\n",
    "\n",
    "# your code here"
   ]
  },
  {
   "cell_type": "code",
   "execution_count": null,
   "metadata": {
    "deletable": false,
    "editable": false,
    "nbgrader": {
     "cell_type": "code",
     "checksum": "f003838e976d44c16c485f28fabf1c11",
     "grade": true,
     "grade_id": "cell-5d8a63b3c5c87e5b",
     "locked": true,
     "points": 1,
     "schema_version": 3,
     "solution": false,
     "task": false
    }
   },
   "outputs": [],
   "source": [
    "# Grading"
   ]
  },
  {
   "cell_type": "code",
   "execution_count": null,
   "metadata": {
    "deletable": false,
    "nbgrader": {
     "cell_type": "code",
     "checksum": "e6e4deae70d031d06c9a06a083f8efaf",
     "grade": false,
     "grade_id": "cell-a5c93e17c02f10de",
     "locked": false,
     "schema_version": 3,
     "solution": true,
     "task": false
    }
   },
   "outputs": [],
   "source": [
    "# Print correlation table, elaborate on price correlated features\n",
    "\n",
    "# your code here"
   ]
  },
  {
   "cell_type": "code",
   "execution_count": null,
   "metadata": {
    "deletable": false,
    "nbgrader": {
     "cell_type": "code",
     "checksum": "33fe7d74b5efa07f7c0499b7caa7e729",
     "grade": false,
     "grade_id": "cell-4cff081d104c5af0",
     "locked": false,
     "schema_version": 3,
     "solution": true,
     "task": false
    }
   },
   "outputs": [],
   "source": [
    "# [Graded] Output the name of the feature that has the highest correlation with 'price'\n",
    "\n",
    "highest_corr = \"...\"\n",
    "\n",
    "# your code here"
   ]
  },
  {
   "cell_type": "code",
   "execution_count": null,
   "metadata": {
    "deletable": false,
    "editable": false,
    "nbgrader": {
     "cell_type": "code",
     "checksum": "75c69f336df81abd9721b78a4388fff9",
     "grade": true,
     "grade_id": "cell-d6c62e87c16bd9e6",
     "locked": true,
     "points": 1,
     "schema_version": 3,
     "solution": false,
     "task": false
    }
   },
   "outputs": [],
   "source": [
    "# Grading"
   ]
  },
  {
   "cell_type": "markdown",
   "metadata": {},
   "source": [
    "### 4. Data cleaning\n",
    "\n",
    "For your basic analysis you decide not to use column `zipcode`. You also decided to set column `id` as your data index:\n",
    "- Drop column `zipcode`\n",
    "- Set column `id` to be your data index\n",
    "\n",
    "Important, please keep the name 'data' for the transformed data set"
   ]
  },
  {
   "cell_type": "code",
   "execution_count": null,
   "metadata": {
    "deletable": false,
    "nbgrader": {
     "cell_type": "code",
     "checksum": "bdadf4cfa68e7e000f60cbf18f9c576d",
     "grade": false,
     "grade_id": "cell-347ed37ca2d35b7a",
     "locked": false,
     "schema_version": 3,
     "solution": true,
     "task": false
    }
   },
   "outputs": [],
   "source": [
    "# your code here"
   ]
  },
  {
   "cell_type": "code",
   "execution_count": null,
   "metadata": {
    "deletable": false,
    "nbgrader": {
     "cell_type": "code",
     "checksum": "bf70421bce8f3338b78ac8008298b0e2",
     "grade": false,
     "grade_id": "cell-340af00bce98ccd0",
     "locked": false,
     "schema_version": 3,
     "solution": true,
     "task": false
    }
   },
   "outputs": [],
   "source": [
    "# [Graded] drop column zipcode\n",
    "\n",
    "# your code here"
   ]
  },
  {
   "cell_type": "code",
   "execution_count": null,
   "metadata": {
    "deletable": false,
    "nbgrader": {
     "cell_type": "code",
     "checksum": "f58ee47f92ccab590314bd16c5c27fcf",
     "grade": false,
     "grade_id": "cell-dcf9f711493bb93f",
     "locked": false,
     "schema_version": 3,
     "solution": true,
     "task": false
    }
   },
   "outputs": [],
   "source": [
    "# [Graded] set data index\n",
    "\n",
    "# your code here"
   ]
  },
  {
   "cell_type": "code",
   "execution_count": null,
   "metadata": {
    "deletable": false,
    "nbgrader": {
     "cell_type": "code",
     "checksum": "e8955bb827cf5d50b893cb469a0a1d22",
     "grade": false,
     "grade_id": "cell-31bf8fa342bb6b09",
     "locked": false,
     "schema_version": 3,
     "solution": true,
     "task": false
    }
   },
   "outputs": [],
   "source": [
    "# Display top 10 observation from your data\n",
    "\n",
    "# your code here"
   ]
  },
  {
   "cell_type": "code",
   "execution_count": null,
   "metadata": {
    "deletable": false,
    "editable": false,
    "nbgrader": {
     "cell_type": "code",
     "checksum": "b8e233135eb56e0fc901c000e66ffd57",
     "grade": true,
     "grade_id": "cell-fbffdc2168980e76",
     "locked": true,
     "points": 1,
     "schema_version": 3,
     "solution": false,
     "task": false
    }
   },
   "outputs": [],
   "source": [
    "# Grading"
   ]
  },
  {
   "cell_type": "markdown",
   "metadata": {},
   "source": [
    "### 5. Basic date processing\n",
    "\n",
    "You figure out that column `date` is to harsh for you, so you decided to convert it to plausible format:\n",
    "\n",
    "- Use pandas method `to_datetime()` to convert the date to a good format.\n",
    "- Exctract `year`, `month`, `day` and `weekday` from your new date column. Save them to separete columns.\n",
    "- How many columns has your data now?\n",
    "- Drop column `date`.\n",
    "\n",
    "\n",
    "**Hint 1** for datetime formatted date you could extract the `year` as follow:\n",
    "```\n",
    "data.date.dt.year\n",
    "```\n",
    "**Hint 2** You could create new column in a DataFrame as follow:\n",
    "```\n",
    "data[\"new_column\"] = \n",
    "```\n",
    "\n",
    "**Offtop** Very often date could be a ridiculously rich feature, sometimes it is holidays that matters,\n",
    "\n",
    "sometimes weekends, sometimes some special days like **black friday**. Learn how to work with date in Python!"
   ]
  },
  {
   "cell_type": "code",
   "execution_count": null,
   "metadata": {
    "deletable": false,
    "nbgrader": {
     "cell_type": "code",
     "checksum": "579deaea226f25446a6b03a178a2c9fc",
     "grade": false,
     "grade_id": "cell-0e6da9293aa17eda",
     "locked": false,
     "schema_version": 3,
     "solution": true,
     "task": false
    }
   },
   "outputs": [],
   "source": [
    "# Convert date to datetime format\n",
    "\n",
    "# your code here"
   ]
  },
  {
   "cell_type": "code",
   "execution_count": null,
   "metadata": {
    "deletable": false,
    "nbgrader": {
     "cell_type": "code",
     "checksum": "917a37d1a3649767e2adadfdec67c49e",
     "grade": false,
     "grade_id": "cell-583a85fa558f588a",
     "locked": false,
     "schema_version": 3,
     "solution": true,
     "task": false
    }
   },
   "outputs": [],
   "source": [
    "# Extract and store year\n",
    "\n",
    "# your code here"
   ]
  },
  {
   "cell_type": "code",
   "execution_count": null,
   "metadata": {
    "deletable": false,
    "nbgrader": {
     "cell_type": "code",
     "checksum": "3b574413e4385e8800211014fe1f169b",
     "grade": false,
     "grade_id": "cell-4d9de9a925652a65",
     "locked": false,
     "schema_version": 3,
     "solution": true,
     "task": false
    }
   },
   "outputs": [],
   "source": [
    "# Extract and store month\n",
    "\n",
    "# your code here"
   ]
  },
  {
   "cell_type": "code",
   "execution_count": null,
   "metadata": {
    "deletable": false,
    "nbgrader": {
     "cell_type": "code",
     "checksum": "d197a0bcc55681fa7d5c704832ffd5a4",
     "grade": false,
     "grade_id": "cell-90015475394176c8",
     "locked": false,
     "schema_version": 3,
     "solution": true,
     "task": false
    }
   },
   "outputs": [],
   "source": [
    "# Extract and store day\n",
    "\n",
    "# your code here"
   ]
  },
  {
   "cell_type": "code",
   "execution_count": null,
   "metadata": {
    "deletable": false,
    "nbgrader": {
     "cell_type": "code",
     "checksum": "3fdf10fde8bf7a3fccf96330dea91238",
     "grade": false,
     "grade_id": "cell-1998f1f13ff02869",
     "locked": false,
     "schema_version": 3,
     "solution": true,
     "task": false
    }
   },
   "outputs": [],
   "source": [
    "# Extract and store weekday\n",
    "\n",
    "# your code here"
   ]
  },
  {
   "cell_type": "code",
   "execution_count": null,
   "metadata": {
    "deletable": false,
    "nbgrader": {
     "cell_type": "code",
     "checksum": "63f136994eb459e92516d91225256270",
     "grade": false,
     "grade_id": "cell-093476651312568f",
     "locked": false,
     "schema_version": 3,
     "solution": true,
     "task": false
    }
   },
   "outputs": [],
   "source": [
    "# Drop column date\n",
    "\n",
    "# your code here"
   ]
  },
  {
   "cell_type": "code",
   "execution_count": null,
   "metadata": {
    "deletable": false,
    "nbgrader": {
     "cell_type": "code",
     "checksum": "af3115f8a51402db5361353beb242110",
     "grade": false,
     "grade_id": "cell-77cc65e601e5a1c9",
     "locked": false,
     "schema_version": 3,
     "solution": true,
     "task": false
    }
   },
   "outputs": [],
   "source": [
    "# Display top 10 observations\n",
    "\n",
    "# your code here"
   ]
  },
  {
   "cell_type": "code",
   "execution_count": null,
   "metadata": {
    "deletable": false,
    "nbgrader": {
     "cell_type": "code",
     "checksum": "5e6797173fdba298e3ace8de50355241",
     "grade": false,
     "grade_id": "cell-90be4c2f28ec7a7c",
     "locked": false,
     "schema_version": 3,
     "solution": true,
     "task": false
    }
   },
   "outputs": [],
   "source": [
    "# [Graded] What is the size of our data after these operations? Output dimensionality of your data after date processing.\n",
    "\n",
    "data_shape = \"...\"\n",
    "\n",
    "# your code here"
   ]
  },
  {
   "cell_type": "code",
   "execution_count": null,
   "metadata": {
    "deletable": false,
    "editable": false,
    "nbgrader": {
     "cell_type": "code",
     "checksum": "ff7715ab12081db525d1f0d8c5cd1790",
     "grade": true,
     "grade_id": "cell-8eb06861b1d2a503",
     "locked": true,
     "points": 1,
     "schema_version": 3,
     "solution": false,
     "task": false
    }
   },
   "outputs": [],
   "source": [
    "# Grading"
   ]
  },
  {
   "cell_type": "markdown",
   "metadata": {},
   "source": [
    "# Ok, enough with boring routine, time to Draw!\n",
    "\n",
    "### 6. Plot a histogram.\n",
    "\n",
    "You are going to predict `price` and you already know its basic statistics (min, max, mean, std, 25%, 50%, 75% quantiles), but what about the whole distribution?\n",
    "\n",
    "- Plot distribution histogramm of column `price`. Use plt.hist()\n",
    "- What are 3 arrays that plt.hist() returns (aside from the actual plot)?\n",
    "- Save these arrays to some variables\n",
    "- Increase number of bins in your histogram up to 30-50\n",
    "- What could you say about price distribution? Does it looks unimodal? Skewed to the right/left? Elaborate.\n",
    "\n",
    "**Hint** you could rotate your xtick, check this out https://matplotlib.org/3.1.1/gallery/ticks_and_spines/ticklabels_rotation.html"
   ]
  },
  {
   "cell_type": "code",
   "execution_count": null,
   "metadata": {
    "deletable": false,
    "nbgrader": {
     "cell_type": "code",
     "checksum": "60c536130d4ffacde634156ab28bde73",
     "grade": false,
     "grade_id": "cell-063cc96d49365f8e",
     "locked": false,
     "schema_version": 3,
     "solution": true,
     "task": false
    }
   },
   "outputs": [],
   "source": [
    "# Use plt.hist() to plot distribution of the price column\n",
    "\n",
    "# your code here"
   ]
  },
  {
   "cell_type": "code",
   "execution_count": null,
   "metadata": {
    "deletable": false,
    "nbgrader": {
     "cell_type": "code",
     "checksum": "41ae71a7cc3825008372e286af426d2d",
     "grade": false,
     "grade_id": "cell-7300ab4aecc3f19f",
     "locked": false,
     "schema_version": 3,
     "solution": true,
     "task": false
    }
   },
   "outputs": [],
   "source": [
    "# Store returned arrays of plt.hist() to some variables\n",
    "\n",
    "# your code here"
   ]
  },
  {
   "cell_type": "code",
   "execution_count": null,
   "metadata": {
    "deletable": false,
    "nbgrader": {
     "cell_type": "code",
     "checksum": "2c5c0fb80482cff0992d6502d1686c09",
     "grade": false,
     "grade_id": "cell-4a2d41427e9f9c79",
     "locked": false,
     "schema_version": 3,
     "solution": true,
     "task": false
    }
   },
   "outputs": [],
   "source": [
    "# Increase number of bins, plot histogram again\n",
    "\n",
    "# your code here"
   ]
  },
  {
   "cell_type": "code",
   "execution_count": null,
   "metadata": {
    "deletable": false,
    "nbgrader": {
     "cell_type": "code",
     "checksum": "1e1bb9b80fe419f50c7fb782fce9d974",
     "grade": false,
     "grade_id": "cell-89b214d93893e8bf",
     "locked": false,
     "schema_version": 3,
     "solution": true,
     "task": false
    }
   },
   "outputs": [],
   "source": [
    "# Rotate xticks, plot a histogram\n",
    "\n",
    "# your code here"
   ]
  },
  {
   "cell_type": "markdown",
   "metadata": {},
   "source": [
    "### 7. Customize your plot\n",
    "\n",
    "Plot is no good without a \n",
    "- Reasonable title\n",
    "- Appropriately labeled x and y axis\n",
    "\n",
    "Add them.\n",
    "\n",
    "**Hint** most of customization is added via `plt.` e.g. \n",
    "\n",
    "```\n",
    "plt.title('Title')\n",
    "```"
   ]
  },
  {
   "cell_type": "code",
   "execution_count": null,
   "metadata": {
    "deletable": false,
    "nbgrader": {
     "cell_type": "code",
     "checksum": "9fb96887aab1043f9208a6a1553c3082",
     "grade": false,
     "grade_id": "cell-ab6dd1bf31403d85",
     "locked": false,
     "schema_version": 3,
     "solution": true,
     "task": false
    }
   },
   "outputs": [],
   "source": [
    "# add title to your histogram\n",
    "\n",
    "# your code here"
   ]
  },
  {
   "cell_type": "code",
   "execution_count": null,
   "metadata": {
    "deletable": false,
    "nbgrader": {
     "cell_type": "code",
     "checksum": "2d142f6e45e18665030ea580d5f1da58",
     "grade": false,
     "grade_id": "cell-00400ddaf986f805",
     "locked": false,
     "schema_version": 3,
     "solution": true,
     "task": false
    }
   },
   "outputs": [],
   "source": [
    "# Label your x axis\n",
    "\n",
    "# your code here"
   ]
  },
  {
   "cell_type": "code",
   "execution_count": null,
   "metadata": {
    "deletable": false,
    "nbgrader": {
     "cell_type": "code",
     "checksum": "dbcd504a98fad8788881992273370579",
     "grade": false,
     "grade_id": "cell-6d03339da3758104",
     "locked": false,
     "schema_version": 3,
     "solution": true,
     "task": false
    }
   },
   "outputs": [],
   "source": [
    "# Label your y axis\n",
    "\n",
    "# your code here"
   ]
  },
  {
   "cell_type": "markdown",
   "metadata": {},
   "source": [
    "### 8. Plot a scatter plot\n",
    "\n",
    "Based on a correlation table you decided to plot a scatter plot to check out dependency between price and its most correlated features.\n",
    "\n",
    "- Choose a single most correlated with price feature.\n",
    "- Plot a scatter plot (`plt.scatter()`) dependency between price and this feature.\n",
    "- Label axis, add title.\n",
    "- Elaborate on the picture.\n",
    "\n",
    "**Hint** Take your correlation table and sort rows in column `price`"
   ]
  },
  {
   "cell_type": "code",
   "execution_count": null,
   "metadata": {
    "deletable": false,
    "nbgrader": {
     "cell_type": "code",
     "checksum": "1fb5362815aa0eebada3d8392ce9421d",
     "grade": false,
     "grade_id": "cell-a5579737c4a48148",
     "locked": false,
     "schema_version": 3,
     "solution": true,
     "task": false
    }
   },
   "outputs": [],
   "source": [
    "# Choose a feature\n",
    "\n",
    "# your code here"
   ]
  },
  {
   "cell_type": "code",
   "execution_count": null,
   "metadata": {
    "deletable": false,
    "nbgrader": {
     "cell_type": "code",
     "checksum": "6f1a824669850ac22356558965e5c81e",
     "grade": false,
     "grade_id": "cell-dded9735b89c53dc",
     "locked": false,
     "schema_version": 3,
     "solution": true,
     "task": false
    }
   },
   "outputs": [],
   "source": [
    "# Plot a scatter plot, dont forget to specify x,y label and a title\n",
    "\n",
    "# your code here"
   ]
  },
  {
   "cell_type": "markdown",
   "metadata": {},
   "source": [
    "### 9. More data cleaning\n",
    "\n",
    "Based on the histogram and scatter plot you decided to remove outliers,\n",
    "for the purpose of our work removing top 1% (above 99th quantile),\n",
    "would be enough.\n",
    "\n",
    "- compute 99th **price** quantile\n",
    "- remove all observations >= 99th **price** quantile\n",
    "\n",
    "**Hint** you could take a subset of a data using boolean mask, like this:\n",
    "\n",
    "```\n",
    "condition = data.col > 5\n",
    "data[condition]\n",
    "```"
   ]
  },
  {
   "cell_type": "code",
   "execution_count": null,
   "metadata": {
    "deletable": false,
    "nbgrader": {
     "cell_type": "code",
     "checksum": "956b57405739bf172b98886e9cc51007",
     "grade": false,
     "grade_id": "cell-8887a675ad65724d",
     "locked": false,
     "schema_version": 3,
     "solution": true,
     "task": false
    }
   },
   "outputs": [],
   "source": [
    "# compute price 99th quantile\n",
    "\n",
    "# your code here"
   ]
  },
  {
   "cell_type": "code",
   "execution_count": null,
   "metadata": {
    "deletable": false,
    "nbgrader": {
     "cell_type": "code",
     "checksum": "d6de3978f422150fd29a99ef039ad47e",
     "grade": false,
     "grade_id": "cell-8474b9fc5d12c9dd",
     "locked": false,
     "schema_version": 3,
     "solution": true,
     "task": false
    }
   },
   "outputs": [],
   "source": [
    "# print number of rows in the data\n",
    "\n",
    "# your code here"
   ]
  },
  {
   "cell_type": "code",
   "execution_count": null,
   "metadata": {
    "deletable": false,
    "nbgrader": {
     "cell_type": "code",
     "checksum": "c7a6c7ad79eea4e3226814471b3aa22f",
     "grade": false,
     "grade_id": "cell-ddeccccae7034681",
     "locked": false,
     "schema_version": 3,
     "solution": true,
     "task": false
    }
   },
   "outputs": [],
   "source": [
    "# trim the data to the price 99th quantile\n",
    "\n",
    "# your code here"
   ]
  },
  {
   "cell_type": "code",
   "execution_count": null,
   "metadata": {
    "deletable": false,
    "nbgrader": {
     "cell_type": "code",
     "checksum": "ae3c835ea01ea228538693230442dbbc",
     "grade": false,
     "grade_id": "cell-9532169a2699529b",
     "locked": false,
     "schema_version": 3,
     "solution": true,
     "task": false
    }
   },
   "outputs": [],
   "source": [
    "# [Graded] Compute number of rows and columns in your data after these operations\n",
    "\n",
    "data_shape = \"...\"\n",
    "\n",
    "# your code here"
   ]
  },
  {
   "cell_type": "code",
   "execution_count": null,
   "metadata": {
    "deletable": false,
    "editable": false,
    "nbgrader": {
     "cell_type": "code",
     "checksum": "6c494999394036c853bcf8dc3d0dd2c9",
     "grade": true,
     "grade_id": "cell-48826d11d1d7744a",
     "locked": true,
     "points": 1,
     "schema_version": 3,
     "solution": false,
     "task": false
    }
   },
   "outputs": [],
   "source": [
    "# Grading"
   ]
  },
  {
   "cell_type": "markdown",
   "metadata": {},
   "source": [
    "### 10. Customize scatter plot\n",
    "\n",
    "Lets plot our scatter again, but now lets add some fancy stuff start with increasing the visual size of the plot:\n",
    "\n",
    "- Increase figure size (check out `plt.figure()` parameters)\n",
    "- Reduce size of individual scatter point to `5`\n",
    "- Change color of the points to red \n",
    "\n",
    "**Hint 1** Check out plt.scatter() parameters\n",
    "\n",
    "**Hint 2** You could also customize marker style, e.g. change points to triangles/squares or even small stars.\n",
    "\n",
    "**Colors** https://matplotlib.org/2.0.2/api/colors_api.html\n",
    "\n",
    "**Markers** https://matplotlib.org/3.1.1/api/markers_api.html"
   ]
  },
  {
   "cell_type": "code",
   "execution_count": null,
   "metadata": {
    "deletable": false,
    "nbgrader": {
     "cell_type": "code",
     "checksum": "9d44a454cafdd959cbfca9291cb3e0e8",
     "grade": false,
     "grade_id": "cell-4c980c3a8d706220",
     "locked": false,
     "schema_version": 3,
     "solution": true,
     "task": false
    }
   },
   "outputs": [],
   "source": [
    "# Increase figure size\n",
    "\n",
    "# your code here"
   ]
  },
  {
   "cell_type": "code",
   "execution_count": null,
   "metadata": {
    "deletable": false,
    "nbgrader": {
     "cell_type": "code",
     "checksum": "b1c5d3f1c6f4c945160b20010d0e0a04",
     "grade": false,
     "grade_id": "cell-e30563e144066b7a",
     "locked": false,
     "schema_version": 3,
     "solution": true,
     "task": false
    }
   },
   "outputs": [],
   "source": [
    "# Set marker size to 5\n",
    "\n",
    "# your code here"
   ]
  },
  {
   "cell_type": "code",
   "execution_count": null,
   "metadata": {
    "deletable": false,
    "nbgrader": {
     "cell_type": "code",
     "checksum": "4f1015bed425ddf5f1d6ae836ea32e20",
     "grade": false,
     "grade_id": "cell-0a6bd93735a122fc",
     "locked": false,
     "schema_version": 3,
     "solution": true,
     "task": false
    }
   },
   "outputs": [],
   "source": [
    "# Change points color\n",
    "\n",
    "# your code here"
   ]
  },
  {
   "cell_type": "markdown",
   "metadata": {},
   "source": [
    "### 11. More on color\n",
    "\n",
    "You remebered that there were a `grade` feature also highly correlated with `price`, but unfortunatly \n",
    "qualitative. You have heard somewere that you could set points color using qualitive feature:\n",
    "```\n",
    "color = [1,1,1,0,0,0]\n",
    "x = [0,1,2,3,4,5]\n",
    "y = [0,1,2,3,4,5]\n",
    "plt.scatter(x,y,c=color)\n",
    "```\n",
    "\n",
    "Original `grade` has too much variability. Create a new column that takes values:\n",
    "\n",
    "- 1 if grade 1-3\n",
    "- 2 if grade 4-7\n",
    "- 3 if grade 8-10\n",
    "- 4 if grade 11-13\n",
    "\n",
    "and use it as color for previous scatter plot:\n",
    "\n",
    "- Make a rough version of data.grade, add it as a new column to your data\n",
    "- Plot a scatter plot with points colored according to your new column\n",
    "- Use cmap option, of a plt.scatter()\n",
    "- Explain what does cmap option controls\n",
    "- Elaborate on the resulting picture\n",
    "\n",
    "**Hint** check out pandas `map` or pandas `apply` function\n",
    "\n",
    "**cmaps** https://matplotlib.org/3.1.0/tutorials/colors/colormaps.html"
   ]
  },
  {
   "cell_type": "code",
   "execution_count": null,
   "metadata": {
    "deletable": false,
    "nbgrader": {
     "cell_type": "code",
     "checksum": "57958840c97bd04931d1e4ddbcfbb3b8",
     "grade": false,
     "grade_id": "cell-0da70aa40646f4b2",
     "locked": false,
     "schema_version": 3,
     "solution": true,
     "task": false
    }
   },
   "outputs": [],
   "source": [
    "# [Graded] Create rough version of grade. Modify your existing `data` object by adding a new column\n",
    "\n",
    "# your code here"
   ]
  },
  {
   "cell_type": "code",
   "execution_count": null,
   "metadata": {
    "deletable": false,
    "nbgrader": {
     "cell_type": "code",
     "checksum": "584a4661c4de2f40404273695bb60454",
     "grade": false,
     "grade_id": "cell-059dfd0694af0032",
     "locked": false,
     "schema_version": 3,
     "solution": true,
     "task": false
    }
   },
   "outputs": [],
   "source": [
    "# Change points color according to a rough grade\n",
    "\n",
    "# your code here"
   ]
  },
  {
   "cell_type": "code",
   "execution_count": null,
   "metadata": {
    "deletable": false,
    "nbgrader": {
     "cell_type": "code",
     "checksum": "2d201079599e5da5dc5a2c53fd150ae1",
     "grade": false,
     "grade_id": "cell-8b081e83b487dab7",
     "locked": false,
     "schema_version": 3,
     "solution": true,
     "task": false
    }
   },
   "outputs": [],
   "source": [
    "# Change cmap to Paired\n",
    "\n",
    "# your code here"
   ]
  },
  {
   "cell_type": "code",
   "execution_count": null,
   "metadata": {
    "deletable": false,
    "editable": false,
    "nbgrader": {
     "cell_type": "code",
     "checksum": "8237ae75c61d95f67cd554cd057a724b",
     "grade": true,
     "grade_id": "cell-1c0006d6085d0767",
     "locked": true,
     "points": 1,
     "schema_version": 3,
     "solution": false,
     "task": false
    }
   },
   "outputs": [],
   "source": [
    "# Grading"
   ]
  },
  {
   "cell_type": "markdown",
   "metadata": {},
   "source": [
    "# Seaborn\n",
    "\n",
    "Seaborn is a wrap around matplotlib, along with pandas it allows you to build cleaner plots\n",
    "much easier. \n",
    "\n",
    "But in the end it is just a wrap, if you want flexibility you need to go back to matplotlib.\n",
    "\n",
    "Check their example gallery https://seaborn.pydata.org/examples/index.html it is awesome!"
   ]
  },
  {
   "cell_type": "code",
   "execution_count": null,
   "metadata": {},
   "outputs": [],
   "source": [
    "import seaborn as sns"
   ]
  },
  {
   "cell_type": "markdown",
   "metadata": {},
   "source": [
    "### 12. Box plot\n",
    "\n",
    "Lets switch to something else, number of bathroom sounds important to a price.\n",
    "We could plot a boxplot of prices for every unique value of bathrooms.\n",
    "\n",
    "And with `seaborn` we could do it in 1 single line!\n",
    "\n",
    "- Plot a boxplot of prices for every unique value of bathrooms using seaborn.boxplot\n",
    "- Increase figure size to make picture looks better\n",
    "- Elaborate on the resulting picture\n",
    "\n",
    "**Hint** check out seaborn documentation on boxplots https://seaborn.pydata.org/examples/grouped_boxplot.html"
   ]
  },
  {
   "cell_type": "code",
   "execution_count": null,
   "metadata": {
    "deletable": false,
    "nbgrader": {
     "cell_type": "code",
     "checksum": "989f70110df816cebe7fde02b93e78ca",
     "grade": false,
     "grade_id": "cell-a066d33023c4d657",
     "locked": false,
     "schema_version": 3,
     "solution": true,
     "task": false
    }
   },
   "outputs": [],
   "source": [
    "# Plot boxplots\n",
    "\n",
    "# your code here"
   ]
  },
  {
   "cell_type": "code",
   "execution_count": null,
   "metadata": {
    "deletable": false,
    "nbgrader": {
     "cell_type": "code",
     "checksum": "1bfd8e98970b09614317f0feb9b38f64",
     "grade": false,
     "grade_id": "cell-c82d4bb23f6980c1",
     "locked": false,
     "schema_version": 3,
     "solution": true,
     "task": false
    }
   },
   "outputs": [],
   "source": [
    "# Increase figure size\n",
    "\n",
    "# your code here"
   ]
  },
  {
   "cell_type": "code",
   "execution_count": null,
   "metadata": {},
   "outputs": [],
   "source": []
  },
  {
   "cell_type": "markdown",
   "metadata": {},
   "source": [
    "### 13. Bar chart\n",
    "\n",
    "Waterfront is a rare feature, does it strongly affect price?\n",
    "\n",
    "To answer this question you decided to plot `bar chart` of\n",
    "price of houses with and without `waterfront`:\n",
    "\n",
    "- Count number of houses **with** waterfront\n",
    "- Plot seaborn categorical plot. Use this example https://seaborn.pydata.org/examples/grouped_barplot.html as a guide.\n",
    "- Elaborate on the resulting picture.\n"
   ]
  },
  {
   "cell_type": "code",
   "execution_count": null,
   "metadata": {
    "deletable": false,
    "nbgrader": {
     "cell_type": "code",
     "checksum": "219f9a29901a6b297bcd558cf558b03c",
     "grade": false,
     "grade_id": "cell-a1e14ef6e161d234",
     "locked": false,
     "schema_version": 3,
     "solution": true,
     "task": false
    }
   },
   "outputs": [],
   "source": [
    "# Count number houses with waterfront\n",
    "\n",
    "# your code here"
   ]
  },
  {
   "cell_type": "code",
   "execution_count": null,
   "metadata": {
    "deletable": false,
    "nbgrader": {
     "cell_type": "code",
     "checksum": "d9781fadba2b1198b746a66849325f7f",
     "grade": false,
     "grade_id": "cell-5f72521223565d7d",
     "locked": false,
     "schema_version": 3,
     "solution": true,
     "task": false
    }
   },
   "outputs": [],
   "source": [
    "# plot the picture\n",
    "\n",
    "# your code here"
   ]
  },
  {
   "cell_type": "code",
   "execution_count": null,
   "metadata": {},
   "outputs": [],
   "source": []
  },
  {
   "cell_type": "markdown",
   "metadata": {},
   "source": [
    "### 14. Line plot\n",
    "\n",
    "Remember your last time renting an apartments? When does it happen, summer? winter? Season could strongly affect\n",
    "\n",
    "house prices. Lets check this out.\n",
    "\n",
    "- Plot a line chart: price dependency on month\n",
    "- Fix figure sizes if needed\n",
    "- Fix xticks (set the to be `1..12`)\n",
    "- Fix xticklabels to be actual month's names and not numbers (remember to rotate them) \n",
    "- When does the prices goes up?\n",
    "- What is the best month to buy a house? (atleast in terms of general trend)\n",
    "- Does this trend depend on view feature? Plot multiple lines on a single plot.\n",
    "- Elaborate on the result\n",
    "\n",
    "\n",
    "**Hint 1** sns.lineplot (aside from a plot) return you an Axes object, which has many different parameters and methods, e.g.:\n",
    "\n",
    "```\n",
    "ax = sns.lineplot(x=\"timepoint\", y=\"signal\", hue=\"region\", style=\"event\", data=fmri)\n",
    "ax.set_xticks(list(range(0, 20)))\n",
    "```\n",
    "\n",
    "Color pallete https://seaborn.pydata.org/tutorial/color_palettes.html\n",
    "\n",
    "Line plot docs https://seaborn.pydata.org/generated/seaborn.lineplot.html"
   ]
  },
  {
   "cell_type": "code",
   "execution_count": null,
   "metadata": {
    "deletable": false,
    "nbgrader": {
     "cell_type": "code",
     "checksum": "bb244516eda7d34e352e6975b59e5177",
     "grade": false,
     "grade_id": "cell-1057a9eaa0c6555e",
     "locked": false,
     "schema_version": 3,
     "solution": true,
     "task": false
    }
   },
   "outputs": [],
   "source": [
    "# Plot a line chart\n",
    "\n",
    "# your code here"
   ]
  },
  {
   "cell_type": "code",
   "execution_count": null,
   "metadata": {
    "deletable": false,
    "nbgrader": {
     "cell_type": "code",
     "checksum": "d4bcb896b46663035c9681bf97c540b2",
     "grade": false,
     "grade_id": "cell-c3e0a8420fc45894",
     "locked": false,
     "schema_version": 3,
     "solution": true,
     "task": false
    }
   },
   "outputs": [],
   "source": [
    "# Fix figure size\n",
    "\n",
    "# your code here"
   ]
  },
  {
   "cell_type": "code",
   "execution_count": null,
   "metadata": {
    "deletable": false,
    "nbgrader": {
     "cell_type": "code",
     "checksum": "9d82f0643363cab5ef1dd7100246dcd7",
     "grade": false,
     "grade_id": "cell-63f566156b0dbc1b",
     "locked": false,
     "schema_version": 3,
     "solution": true,
     "task": false
    }
   },
   "outputs": [],
   "source": [
    "# Fix xticks\n",
    "\n",
    "# your code here"
   ]
  },
  {
   "cell_type": "code",
   "execution_count": null,
   "metadata": {
    "deletable": false,
    "nbgrader": {
     "cell_type": "code",
     "checksum": "52dcd1b352367a2b2c2adbc44b1466cd",
     "grade": false,
     "grade_id": "cell-1ff86ac1f3fed018",
     "locked": false,
     "schema_version": 3,
     "solution": true,
     "task": false
    }
   },
   "outputs": [],
   "source": [
    "# Fix xticks labels\n",
    "\n",
    "# your code here"
   ]
  },
  {
   "cell_type": "code",
   "execution_count": null,
   "metadata": {
    "deletable": false,
    "nbgrader": {
     "cell_type": "code",
     "checksum": "3c6f92374ed65c629b98c8a14b38f367",
     "grade": false,
     "grade_id": "cell-efe3f9d42c32363c",
     "locked": false,
     "schema_version": 3,
     "solution": true,
     "task": false
    }
   },
   "outputs": [],
   "source": [
    "# [Graded] What is the best month to buy a house?\n",
    "\n",
    "best_minth = '...'\n",
    "\n",
    "# your code here"
   ]
  },
  {
   "cell_type": "code",
   "execution_count": null,
   "metadata": {
    "deletable": false,
    "editable": false,
    "nbgrader": {
     "cell_type": "code",
     "checksum": "9fb6d70c036da6d8edb462d7445d1ee6",
     "grade": true,
     "grade_id": "cell-8e1fb598538dbe96",
     "locked": true,
     "points": 1,
     "schema_version": 3,
     "solution": false,
     "task": false
    }
   },
   "outputs": [],
   "source": [
    "# Grading\n"
   ]
  },
  {
   "cell_type": "code",
   "execution_count": null,
   "metadata": {
    "deletable": false,
    "nbgrader": {
     "cell_type": "code",
     "checksum": "f17788e09b4deaa8dc17efdeb43d7f19",
     "grade": false,
     "grade_id": "cell-f237df8bf33a8035",
     "locked": false,
     "schema_version": 3,
     "solution": true,
     "task": false
    }
   },
   "outputs": [],
   "source": [
    "# Plot multiple lines on a single plot (view feature)\n",
    "\n",
    "# your code here"
   ]
  },
  {
   "cell_type": "code",
   "execution_count": null,
   "metadata": {},
   "outputs": [],
   "source": [
    "data.columns"
   ]
  },
  {
   "cell_type": "markdown",
   "metadata": {},
   "source": [
    "# Say no more, Machine Learning!"
   ]
  },
  {
   "cell_type": "markdown",
   "metadata": {},
   "source": [
    "### 15. Prepare data from training machine learning models.\n",
    "For this task we will try to predict the house price, so our target feature is `price`.\n",
    "\n",
    "- Separate features and target.\n",
    "- Split the data into train (`80%` of the data) and test (`20%` of the data). \n",
    "- Use random_state parameter = $42$.\n",
    "- What does fixing random_state do?\n",
    "\n",
    "**Hint 1** Most of the train-testing routines are in the `sklearn` submodule `model_selection`"
   ]
  },
  {
   "cell_type": "code",
   "execution_count": null,
   "metadata": {
    "deletable": false,
    "nbgrader": {
     "cell_type": "code",
     "checksum": "d11ec1e3a2caafb14ee468c55dd39575",
     "grade": false,
     "grade_id": "cell-fa2e0c5faae15783",
     "locked": false,
     "schema_version": 3,
     "solution": true,
     "task": false
    }
   },
   "outputs": [],
   "source": [
    "# Separate features and the target (price)\n",
    "\n",
    "# your code here"
   ]
  },
  {
   "cell_type": "code",
   "execution_count": null,
   "metadata": {
    "deletable": false,
    "nbgrader": {
     "cell_type": "code",
     "checksum": "c0f36989bd23c8f24542d5ba0d1cbfb2",
     "grade": false,
     "grade_id": "cell-6f92413f3c0be42b",
     "locked": false,
     "schema_version": 3,
     "solution": true,
     "task": false
    }
   },
   "outputs": [],
   "source": [
    "# import train_test_split from sklearn model_selection submodule,\n",
    "# split the data into train and test\n",
    "\n",
    "# your code here"
   ]
  },
  {
   "cell_type": "code",
   "execution_count": null,
   "metadata": {
    "deletable": false,
    "nbgrader": {
     "cell_type": "code",
     "checksum": "a59db147a0c00a3d2f2aa45d9f8846c1",
     "grade": false,
     "grade_id": "cell-4c66fc6088f07225",
     "locked": false,
     "schema_version": 3,
     "solution": true,
     "task": false
    }
   },
   "outputs": [],
   "source": [
    "# [Graded] How many objects are in the training part of the data?\n",
    "\n",
    "n_train = '...'\n",
    "\n",
    "# your code here"
   ]
  },
  {
   "cell_type": "code",
   "execution_count": null,
   "metadata": {
    "deletable": false,
    "editable": false,
    "nbgrader": {
     "cell_type": "code",
     "checksum": "5b6b7655caf14368b8f6826c5c3ac53b",
     "grade": true,
     "grade_id": "cell-b46f5814cc9c221e",
     "locked": true,
     "points": 1,
     "schema_version": 3,
     "solution": false,
     "task": false
    }
   },
   "outputs": [],
   "source": [
    "# Grading"
   ]
  },
  {
   "cell_type": "markdown",
   "metadata": {},
   "source": [
    "### 16. Train your first model.\n",
    "\n",
    "Since this is a regression task you decided that the Linear Regression will do the job:\n",
    "\n",
    "- Create a Linear Regression class. Leave all parameters by default.\n",
    "- Fit the model with the **training data**.\n",
    "- Predict house prices of the **test data** (which were not seen by the model).\n",
    "- Predict house prices of the **train data**.\n",
    "- Report model perfomance in terms of `Mean Squared Error` on **train** and **test data**.\n",
    "- Check metrics which compute relative error. Start with `R2 coefficient` on **train** and **test data.**\n",
    "\n",
    "**Hint 1** Check out `sklearn.metrics` module."
   ]
  },
  {
   "cell_type": "code",
   "execution_count": null,
   "metadata": {
    "deletable": false,
    "nbgrader": {
     "cell_type": "code",
     "checksum": "8e9046df2b185c3c1aaadf5353fdc9b7",
     "grade": false,
     "grade_id": "cell-0707abfb40d9efcd",
     "locked": false,
     "schema_version": 3,
     "solution": true,
     "task": false
    }
   },
   "outputs": [],
   "source": [
    "# make all imports\n",
    "\n",
    "# your code here"
   ]
  },
  {
   "cell_type": "code",
   "execution_count": null,
   "metadata": {
    "deletable": false,
    "nbgrader": {
     "cell_type": "code",
     "checksum": "b5fb869542c6162ae86e6adb83afd7c8",
     "grade": false,
     "grade_id": "cell-0e0e12935226bf0f",
     "locked": false,
     "schema_version": 3,
     "solution": true,
     "task": false
    }
   },
   "outputs": [],
   "source": [
    "# Create a linear model\n",
    "\n",
    "# your code here"
   ]
  },
  {
   "cell_type": "code",
   "execution_count": null,
   "metadata": {
    "deletable": false,
    "nbgrader": {
     "cell_type": "code",
     "checksum": "61ad0382a22b6f531d308f3121737dda",
     "grade": false,
     "grade_id": "cell-a89863d395b698a0",
     "locked": false,
     "schema_version": 3,
     "solution": true,
     "task": false
    }
   },
   "outputs": [],
   "source": [
    "# Train the linear model\n",
    "\n",
    "# your code here"
   ]
  },
  {
   "cell_type": "code",
   "execution_count": null,
   "metadata": {
    "deletable": false,
    "nbgrader": {
     "cell_type": "code",
     "checksum": "ef46403b0504b629c53a4e5d2880525b",
     "grade": false,
     "grade_id": "cell-aec23667466b62f1",
     "locked": false,
     "schema_version": 3,
     "solution": true,
     "task": false
    }
   },
   "outputs": [],
   "source": [
    "# Make predictions on train and test data\n",
    "\n",
    "# your code here"
   ]
  },
  {
   "cell_type": "code",
   "execution_count": null,
   "metadata": {
    "deletable": false,
    "nbgrader": {
     "cell_type": "code",
     "checksum": "f7fa70224046a235cb8fe866389d7127",
     "grade": false,
     "grade_id": "cell-c126aad03f9f5faf",
     "locked": false,
     "schema_version": 3,
     "solution": true,
     "task": false
    }
   },
   "outputs": [],
   "source": [
    "# [Graded] Report MSE of both train and test predictions\n",
    "\n",
    "mse_lr_train = '...'\n",
    "mse_lr_test = '...'\n",
    "\n",
    "# your code here"
   ]
  },
  {
   "cell_type": "code",
   "execution_count": null,
   "metadata": {
    "deletable": false,
    "editable": false,
    "nbgrader": {
     "cell_type": "code",
     "checksum": "c8f257232a19603647f1d3acf65a15da",
     "grade": true,
     "grade_id": "cell-ce7f8f37ec9965a1",
     "locked": true,
     "points": 1,
     "schema_version": 3,
     "solution": false,
     "task": false
    }
   },
   "outputs": [],
   "source": [
    "# Grading"
   ]
  },
  {
   "cell_type": "code",
   "execution_count": null,
   "metadata": {
    "deletable": false,
    "nbgrader": {
     "cell_type": "code",
     "checksum": "da8ccef7c32203fe81a4f5bb0eb3311d",
     "grade": false,
     "grade_id": "cell-b99b86698699a63c",
     "locked": false,
     "schema_version": 3,
     "solution": true,
     "task": false
    }
   },
   "outputs": [],
   "source": [
    "# [Graded] Report R2 score of both train and test predictions\n",
    "\n",
    "r2_score_train = '...'\n",
    "r2_score_test = '...'\n",
    "\n",
    "# your code here"
   ]
  },
  {
   "cell_type": "code",
   "execution_count": null,
   "metadata": {
    "deletable": false,
    "editable": false,
    "nbgrader": {
     "cell_type": "code",
     "checksum": "82e8b17ae10958f9b3f2a098b4e19baf",
     "grade": true,
     "grade_id": "cell-e9a2a577b387a707",
     "locked": true,
     "points": 1,
     "schema_version": 3,
     "solution": false,
     "task": false
    }
   },
   "outputs": [],
   "source": [
    "# Grading"
   ]
  },
  {
   "cell_type": "markdown",
   "metadata": {},
   "source": [
    "### 17. Standardize your data.\n",
    "\n",
    "You remebered that either Max or Mikhail told you, that for building a linear model **data normalization** is essential. But you completely forgot about it. Lets fix this.\n",
    "\n",
    "\n",
    "> Standardization is a linear transformation that is applied to each feature independently.\n",
    "First, mean $\\hat{\\mu_i}$ and variance $\\hat{\\sigma_i}$ of the $i$-th feature are estimated, after that we subtract the mean from every value and divide the result by variance:\n",
    "\n",
    "$$\\frac{x_{ij}-\\hat{\\mu_i}}{\\hat{\\sigma_i}}$$\n",
    "\n",
    ">After that, each feature will have zero mean and variance of 1. This operation needs to be performed on the train data first, and then the same means and variances are to be used to modify the test set. This way we will not introduce any _leaks_ of information about the data in our test set.\n",
    "\n",
    "Your goal is to Normalize (or Standartize) your data:\n",
    "\n",
    "- Standartize your **train** data.\n",
    "- Apply transformation to your **test** data.\n",
    "- Fit the model again (using training data).\n",
    "- Predict the housing prices on the **train** and **test data**.\n",
    "- Does the scaling improve preformance?\n",
    "\n",
    "**Hint** `sklearn.preprocessing` has multiple standartizing options, for this task you are suppose to use  `StandardScaler` preprocessing transformation.\n",
    "\n",
    "https://scikit-learn.org/stable/modules/classes.html#module-sklearn.preprocessing\n"
   ]
  },
  {
   "cell_type": "code",
   "execution_count": null,
   "metadata": {
    "deletable": false,
    "nbgrader": {
     "cell_type": "code",
     "checksum": "3eb56c50827b1389cad972c0225efd83",
     "grade": false,
     "grade_id": "cell-94b336a818862628",
     "locked": false,
     "schema_version": 3,
     "solution": true,
     "task": false
    }
   },
   "outputs": [],
   "source": [
    "# import a scaler\n",
    "\n",
    "# your code here"
   ]
  },
  {
   "cell_type": "code",
   "execution_count": null,
   "metadata": {
    "deletable": false,
    "nbgrader": {
     "cell_type": "code",
     "checksum": "4eaf629487acb2b4d51bf93845248c24",
     "grade": false,
     "grade_id": "cell-ccf02fd9fa9d036d",
     "locked": false,
     "schema_version": 3,
     "solution": true,
     "task": false
    }
   },
   "outputs": [],
   "source": [
    "# Standartize your train data\n",
    "\n",
    "# your code here"
   ]
  },
  {
   "cell_type": "code",
   "execution_count": null,
   "metadata": {
    "deletable": false,
    "nbgrader": {
     "cell_type": "code",
     "checksum": "5afcff0bc9b709608e7b9c58bd01bd59",
     "grade": false,
     "grade_id": "cell-46a3726fab1eab62",
     "locked": false,
     "schema_version": 3,
     "solution": true,
     "task": false
    }
   },
   "outputs": [],
   "source": [
    "# Apply the same transform on your test data\n",
    "\n",
    "# your code here"
   ]
  },
  {
   "cell_type": "code",
   "execution_count": null,
   "metadata": {
    "deletable": false,
    "nbgrader": {
     "cell_type": "code",
     "checksum": "b63953e66c600acbc5f825b3d1d066c5",
     "grade": false,
     "grade_id": "cell-70cfe0011c4fd50c",
     "locked": false,
     "schema_version": 3,
     "solution": true,
     "task": false
    }
   },
   "outputs": [],
   "source": [
    "# Fit the Linear model again on scaled data\n",
    "\n",
    "# your code here"
   ]
  },
  {
   "cell_type": "code",
   "execution_count": null,
   "metadata": {
    "deletable": false,
    "nbgrader": {
     "cell_type": "code",
     "checksum": "d2c2deec61c054518d468f6fd80957c4",
     "grade": false,
     "grade_id": "cell-c7a2fc19bb7f82b6",
     "locked": false,
     "schema_version": 3,
     "solution": true,
     "task": false
    }
   },
   "outputs": [],
   "source": [
    "# [Graded] Make predictions\n",
    "\n",
    "mse_lr_train_scaled = '...'\n",
    "mse_lr_test_scaled = '...'\n",
    "\n",
    "# your code here"
   ]
  },
  {
   "cell_type": "code",
   "execution_count": null,
   "metadata": {
    "deletable": false,
    "editable": false,
    "nbgrader": {
     "cell_type": "code",
     "checksum": "8c929bd6dee8ddc3bd9f0b4f6ad9b169",
     "grade": true,
     "grade_id": "cell-b4ab1b5d01bca9f9",
     "locked": true,
     "points": 1,
     "schema_version": 3,
     "solution": false,
     "task": false
    }
   },
   "outputs": [],
   "source": [
    "# Grading"
   ]
  },
  {
   "cell_type": "markdown",
   "metadata": {},
   "source": [
    "### 18. Diffent types of models and scaling.\n",
    "\n",
    "Along with simple Linear Regression (Ordinary Least Squares), you have seen two additional algorithms that fit a linear refression model to the data:\n",
    "- Ridge Regression\n",
    "- Lasso Regression.\n",
    "\n",
    "Lets see how they react to the scaling of the data.\n",
    "\n",
    "- Fit separate Ridge and Lasso models on normalized data\n",
    "- Compare their perfomances\n",
    "\n",
    "To make your life easier you are suggested to write 2 functions:\n",
    " - `report_mse`\n",
    " - `evaluate_model`\n",
    "\n",
    "You will find their description below.\n",
    "\n",
    "\n",
    "**Hint** for the `evaluate_model` you just need to put appropriate steps from **tasks 16, 17** inside a function.\n",
    "\n",
    "Use parameter $\\alpha=10^4$."
   ]
  },
  {
   "cell_type": "code",
   "execution_count": null,
   "metadata": {
    "deletable": false,
    "nbgrader": {
     "cell_type": "code",
     "checksum": "e64e364f8a078a9ca82caee7452f8c8c",
     "grade": false,
     "grade_id": "cell-6514eb308983ab55",
     "locked": false,
     "schema_version": 3,
     "solution": true,
     "task": false
    }
   },
   "outputs": [],
   "source": [
    "def report_mse(model, X, y):\n",
    "    \"\"\"\n",
    "    Reports MSE of the model on given data\n",
    "    ---\n",
    "    \n",
    "    Parameters\n",
    "    ---\n",
    "    \n",
    "    model - trained sklearn model\n",
    "    \n",
    "    X - array,\n",
    "     (n_observations, n_features) matrix,\n",
    "     used to predict target\n",
    "    \n",
    "    y - array,\n",
    "     (n_observation, ) array of true target\n",
    "     \n",
    "    Returns\n",
    "    ---\n",
    "    \n",
    "    mse - mean squared error\n",
    "     between true target and predicted target\n",
    "    \"\"\"\n",
    "    \n",
    "    mse = 0\n",
    "    \n",
    "    # your code here\n",
    "    \n",
    "    return mse"
   ]
  },
  {
   "cell_type": "code",
   "execution_count": null,
   "metadata": {
    "deletable": false,
    "nbgrader": {
     "cell_type": "code",
     "checksum": "04208cf1e3d59930157a23d9605ae39c",
     "grade": false,
     "grade_id": "cell-c0519f3341409960",
     "locked": false,
     "schema_version": 3,
     "solution": true,
     "task": false
    }
   },
   "outputs": [],
   "source": [
    "def evaluate_model(model, X_train, y_train, X_test, y_test, scale=False):\n",
    "    \"\"\"\n",
    "    Trains model on train and reports its perfomance\n",
    "    on train and test data.\n",
    "    ---\n",
    "    \n",
    "    Parameters\n",
    "    ---\n",
    "    \n",
    "    model - sklearn regression model (not trained)\n",
    "    \n",
    "    X_train  - array,\n",
    "     (n_observations_train, n_features) matrix,\n",
    "     train data.\n",
    "     \n",
    "    y_train - array,\n",
    "     (n_observation_train, ) array of train target\n",
    "     \n",
    "    X_test  - array,\n",
    "     (n_observations_test, n_features) matrix,\n",
    "     train data.\n",
    "     \n",
    "    y_test - array,\n",
    "     (n_observation_test, ) array of test target\n",
    "     \n",
    "    scale - bool,\n",
    "     whether to scale the data before training,\n",
    "     default False\n",
    "     \n",
    "    \n",
    "    Returns\n",
    "    ---\n",
    "    \n",
    "    mse_train - float,\n",
    "     mean squared error of the train prediction\n",
    "     \n",
    "    mse_test - float,\n",
    "     mean squared error of the test prediction\n",
    "    \"\"\"\n",
    "    \n",
    "    mse_train = 0\n",
    "    mse_test = 0\n",
    "    \n",
    "    # your code here\n",
    "    \n",
    "    return mse_train, mse_test"
   ]
  },
  {
   "cell_type": "code",
   "execution_count": null,
   "metadata": {
    "deletable": false,
    "nbgrader": {
     "cell_type": "code",
     "checksum": "69901b52f12d8836bc95fa69c33667c2",
     "grade": false,
     "grade_id": "cell-758e7a86f25575a2",
     "locked": false,
     "schema_version": 3,
     "solution": true,
     "task": false
    }
   },
   "outputs": [],
   "source": [
    "# make imports\n",
    "\n",
    "# your code here"
   ]
  },
  {
   "cell_type": "code",
   "execution_count": null,
   "metadata": {
    "deletable": false,
    "nbgrader": {
     "cell_type": "code",
     "checksum": "85c2a820e03dd8078be4ef15a52e4f29",
     "grade": false,
     "grade_id": "cell-19afd56a1f8a6559",
     "locked": false,
     "schema_version": 3,
     "solution": true,
     "task": false
    }
   },
   "outputs": [],
   "source": [
    "# [Graded] fit Ridge regression model on scaled data and evaluate it\n",
    "\n",
    "mse_ridge_train_scaled = '...'\n",
    "mse_ridge_test_scaled = '...'\n",
    "\n",
    "# your code here"
   ]
  },
  {
   "cell_type": "code",
   "execution_count": null,
   "metadata": {
    "deletable": false,
    "nbgrader": {
     "cell_type": "code",
     "checksum": "57dd4b3bfbcabf7cdcc943e15d268a93",
     "grade": false,
     "grade_id": "cell-39db26ba218a92c8",
     "locked": false,
     "schema_version": 3,
     "solution": true,
     "task": false
    }
   },
   "outputs": [],
   "source": [
    "# your code here"
   ]
  },
  {
   "cell_type": "code",
   "execution_count": null,
   "metadata": {
    "deletable": false,
    "nbgrader": {
     "cell_type": "code",
     "checksum": "091a06a735ad42fd3ede243c1f3b79a5",
     "grade": false,
     "grade_id": "cell-38bbb0b1728b7f93",
     "locked": false,
     "schema_version": 3,
     "solution": true,
     "task": false
    }
   },
   "outputs": [],
   "source": [
    "# [Graded] fit Lasso regression model on scaled data and evaluate it\n",
    "\n",
    "mse_lasso_train = '...'\n",
    "mse_lasso_test = '...'\n",
    "\n",
    "# your code here"
   ]
  },
  {
   "cell_type": "code",
   "execution_count": null,
   "metadata": {
    "deletable": false,
    "editable": false,
    "nbgrader": {
     "cell_type": "code",
     "checksum": "9730295bfc5e1e85563cfc7130a7f5c7",
     "grade": true,
     "grade_id": "cell-57d8858dffbd9b4e",
     "locked": true,
     "points": 1,
     "schema_version": 3,
     "solution": false,
     "task": false
    }
   },
   "outputs": [],
   "source": [
    "# Grading"
   ]
  },
  {
   "cell_type": "code",
   "execution_count": null,
   "metadata": {},
   "outputs": [],
   "source": []
  },
  {
   "cell_type": "markdown",
   "metadata": {},
   "source": [
    "### 19. Analyzing trained models.\n",
    "\n",
    "You decided to look inside your regressor and try to interpret the obtained coefficients. It is not always easy with machine learning models, but linear models provide easy explanations: the bigger the coefficient before a feature the bigger the importance of this feature for the prediction.\n",
    "\n",
    "> Coefficients of the linear model are easily interpretable:\n",
    "$$\n",
    "y = \\theta_1 x + \\theta_0\n",
    "$$\n",
    "> Increasing $x$ by $1$, will increase $y$ by $\\theta_1$\n",
    "\n",
    "\n",
    "- Examine coefficients of the trained Linear Regression model on original data. Plot a horizontal bar chart of feature importance. Customize a plot appropriatly.\n",
    "- What are the three largest coefficients by absolute value? What features do they correspond to?\n",
    "- Repeat these steps on normalized data\n",
    "- Compare the results.\n",
    "\n",
    "\n",
    "\n",
    "**Hint 1** use `.coef_` attribute of the trained model to access the raw coefficients values.\n",
    "\n",
    "**Hint 2** use `plt.barh`:\n",
    "\n",
    "```\n",
    "plt.barh(X.columns, model.coef_)\n",
    "```"
   ]
  },
  {
   "cell_type": "code",
   "execution_count": null,
   "metadata": {
    "deletable": false,
    "nbgrader": {
     "cell_type": "code",
     "checksum": "37d7b242b6090168d7a3d884970c95c3",
     "grade": false,
     "grade_id": "cell-058e4a5dc5692452",
     "locked": false,
     "schema_version": 3,
     "solution": true,
     "task": false
    }
   },
   "outputs": [],
   "source": [
    "# You should already have trained linear model on unnormalized data\n",
    "# Plot a bar chart of feature importances\n",
    "\n",
    "# your code here"
   ]
  },
  {
   "cell_type": "code",
   "execution_count": null,
   "metadata": {
    "deletable": false,
    "nbgrader": {
     "cell_type": "code",
     "checksum": "ce8bd09d20d308e1db587b4197a40872",
     "grade": false,
     "grade_id": "cell-763c4aed687f1683",
     "locked": false,
     "schema_version": 3,
     "solution": true,
     "task": false
    }
   },
   "outputs": [],
   "source": [
    "# [Graded] Print names of 3 largest coefficients by magnitude\n",
    "# You might want to write a function for it\n",
    "# to use it in the future\n",
    "\n",
    "def max_coef(model, names, k=3):\n",
    "    \"\"\"\n",
    "    Return k biggest coefficients of a linear model\n",
    "    ---\n",
    "    \n",
    "    Parameters\n",
    "    ---\n",
    "    \n",
    "    model - trained linear model\n",
    "    \n",
    "    names - array-like,\n",
    "     list of feature names\n",
    "     \n",
    "    k - int,\n",
    "     number of features to return\n",
    "     \n",
    "    Returns\n",
    "    ---\n",
    "    \n",
    "    top_k_features - dict,\n",
    "     key - feature name\n",
    "     value - corresponding coefficient magnitude\n",
    "    \"\"\"\n",
    "    # Your code goes here\n",
    "    # Hint: use np.argsort, check the returned order!\n",
    "    ...\n",
    "    ans = {}\n",
    "    \n",
    "    # your code here\n",
    "    \n",
    "    return ans\n",
    "\n",
    "max_coef_names = max_coef(model_lr, X.columns)"
   ]
  },
  {
   "cell_type": "code",
   "execution_count": null,
   "metadata": {
    "deletable": false,
    "editable": false,
    "nbgrader": {
     "cell_type": "code",
     "checksum": "6b07dae9c1ac08f804c35105743a2f9d",
     "grade": true,
     "grade_id": "cell-0b2df313a5195ec5",
     "locked": true,
     "points": 1,
     "schema_version": 3,
     "solution": false,
     "task": false
    }
   },
   "outputs": [],
   "source": [
    "# Grading"
   ]
  },
  {
   "cell_type": "code",
   "execution_count": null,
   "metadata": {
    "deletable": false,
    "nbgrader": {
     "cell_type": "code",
     "checksum": "ac33b34749618bf9674a26263ef59bce",
     "grade": false,
     "grade_id": "cell-b6155802c480e751",
     "locked": false,
     "schema_version": 3,
     "solution": true,
     "task": false
    }
   },
   "outputs": [],
   "source": [
    "# You should already have trained linear model on normalized data\n",
    "# Plot a bar chart of feature importances\n",
    "\n",
    "# your code here"
   ]
  },
  {
   "cell_type": "code",
   "execution_count": null,
   "metadata": {
    "deletable": false,
    "nbgrader": {
     "cell_type": "code",
     "checksum": "e27ad83ce04424d07d997fd5dd12ff58",
     "grade": false,
     "grade_id": "cell-a0e27f02bf19221d",
     "locked": false,
     "schema_version": 3,
     "solution": true,
     "task": false
    }
   },
   "outputs": [],
   "source": [
    "# [Graded] This time, find 3 largest coefficients by magnitude for the model trained on the *scaled* data\n",
    "\n",
    "max_coef_names_scaled = '...'\n",
    "\n",
    "# your code here"
   ]
  },
  {
   "cell_type": "code",
   "execution_count": null,
   "metadata": {
    "deletable": false,
    "editable": false,
    "nbgrader": {
     "cell_type": "code",
     "checksum": "947bbb418402db9109e7c6e672e439d3",
     "grade": true,
     "grade_id": "cell-aa690543134e4053",
     "locked": true,
     "points": 1,
     "schema_version": 3,
     "solution": false,
     "task": false
    }
   },
   "outputs": [],
   "source": [
    "# Grading"
   ]
  },
  {
   "cell_type": "code",
   "execution_count": null,
   "metadata": {},
   "outputs": [],
   "source": []
  },
  {
   "cell_type": "markdown",
   "metadata": {},
   "source": [
    "### 20. Explore effects of regularization on the coefficients.\n",
    "\n",
    "Your goal is to compare how Ridge and Lasso affects model coefficients. \n",
    "\n",
    "\n",
    "- Fit **Ridge Regression** and **Lasso models** on the **scaled train data**, using parameter $\\alpha = 10^4$.\n",
    "- What does parameter $\\alpha$ stands for? (in **Lasso** and **Ridge**) \n",
    "- Report three largest coefficients (by absolute value) for each model.\n",
    "- What features do they correspond to? \n",
    "- Are they different from what we got from the simple **Linear Regression** earlier?\n",
    "    - Compare coeficients magnitude (plot a bar plot)\n",
    "    \n",
    "- How many non-zero coefficients are there in the trained **Lasso** and **Ridge** models?\n",
    "\n",
    "**Hint 1** use `np.nonzero()` function\n",
    "\n",
    "**Hint 2** You could plot barh using pandas interface https://pandas.pydata.org/pandas-docs/stable/reference/api/pandas.DataFrame.plot.barh.html"
   ]
  },
  {
   "cell_type": "code",
   "execution_count": null,
   "metadata": {
    "deletable": false,
    "nbgrader": {
     "cell_type": "code",
     "checksum": "56b9cc9f685da7e8dd9b2f6918258b72",
     "grade": false,
     "grade_id": "cell-ddb1b48deef1b934",
     "locked": false,
     "schema_version": 3,
     "solution": true,
     "task": false
    }
   },
   "outputs": [],
   "source": [
    "# Fit the models\n",
    "\n",
    "# your code here"
   ]
  },
  {
   "cell_type": "code",
   "execution_count": null,
   "metadata": {
    "deletable": false,
    "nbgrader": {
     "cell_type": "code",
     "checksum": "fce5f4cf8b2caedd2643947fe21e181c",
     "grade": false,
     "grade_id": "cell-028c51416ea22557",
     "locked": false,
     "schema_version": 3,
     "solution": true,
     "task": false
    }
   },
   "outputs": [],
   "source": [
    "# [Graded] Report three largest coefficients of the Ridge\n",
    "\n",
    "answer_21_1_max_c_ridge = '...'\n",
    "\n",
    "# your code here"
   ]
  },
  {
   "cell_type": "code",
   "execution_count": null,
   "metadata": {
    "deletable": false,
    "editable": false,
    "nbgrader": {
     "cell_type": "code",
     "checksum": "bb5a8569130479b66fd1efa488c232a4",
     "grade": true,
     "grade_id": "cell-960e86c1b6a1a489",
     "locked": true,
     "points": 1,
     "schema_version": 3,
     "solution": false,
     "task": false
    }
   },
   "outputs": [],
   "source": [
    "# Grading"
   ]
  },
  {
   "cell_type": "code",
   "execution_count": null,
   "metadata": {
    "deletable": false,
    "nbgrader": {
     "cell_type": "code",
     "checksum": "c61124e0adb920f1c584ef9af4c53255",
     "grade": false,
     "grade_id": "cell-9b6528b0435cb080",
     "locked": false,
     "schema_version": 3,
     "solution": true,
     "task": false
    }
   },
   "outputs": [],
   "source": [
    "# [Graded] Report  three largest coefficients of the Lasso\n",
    "\n",
    "answer_21_2_max_c_lasso = '...'\n",
    "\n",
    "# your code here"
   ]
  },
  {
   "cell_type": "code",
   "execution_count": null,
   "metadata": {
    "deletable": false,
    "editable": false,
    "nbgrader": {
     "cell_type": "code",
     "checksum": "bac472389c897ef4e44c224cd6787256",
     "grade": true,
     "grade_id": "cell-4a6e39159a717b5e",
     "locked": true,
     "points": 1,
     "schema_version": 3,
     "solution": false,
     "task": false
    }
   },
   "outputs": [],
   "source": [
    "# Grading"
   ]
  },
  {
   "cell_type": "code",
   "execution_count": null,
   "metadata": {
    "deletable": false,
    "nbgrader": {
     "cell_type": "code",
     "checksum": "99f909de4108b6380232bddc71b47ae0",
     "grade": false,
     "grade_id": "cell-e26036395f6d0ae7",
     "locked": false,
     "schema_version": 3,
     "solution": true,
     "task": false
    }
   },
   "outputs": [],
   "source": [
    "# Compare the results between them and with \n",
    "# vanilla Linear Regression results trained earlier\n",
    "\n",
    "# your code here"
   ]
  },
  {
   "cell_type": "code",
   "execution_count": null,
   "metadata": {
    "deletable": false,
    "nbgrader": {
     "cell_type": "code",
     "checksum": "c838c4e3e07cb6b87fa2c849f3af2b16",
     "grade": false,
     "grade_id": "cell-43b378d1fae2ab7b",
     "locked": false,
     "schema_version": 3,
     "solution": true,
     "task": false
    }
   },
   "outputs": [],
   "source": [
    "# [Graded] How many non-zero coefficients are there in the trained Lasso and Ridge models?\n",
    "\n",
    "answer_21_3_nz_ridge = '...'\n",
    "answer_21_4_nz_lasso = '...'\n",
    "\n",
    "# your code here"
   ]
  },
  {
   "cell_type": "code",
   "execution_count": null,
   "metadata": {
    "deletable": false,
    "editable": false,
    "nbgrader": {
     "cell_type": "code",
     "checksum": "c2894ded2bd4b77d517b7da0e331b316",
     "grade": true,
     "grade_id": "cell-5da7498b66628f26",
     "locked": true,
     "points": 1,
     "schema_version": 3,
     "solution": false,
     "task": false
    }
   },
   "outputs": [],
   "source": [
    "# Grading"
   ]
  },
  {
   "cell_type": "code",
   "execution_count": null,
   "metadata": {},
   "outputs": [],
   "source": []
  },
  {
   "cell_type": "markdown",
   "metadata": {},
   "source": [
    "### 21. Try a diffent type of model.\n",
    "\n",
    "Linear is not the only regression model, you could succesfully solve regression problems using our old friend K nearest neighbours.\n",
    "\n",
    "- Import K Nearest Neoghbors regression model.\n",
    "- Fit it with train data. Use $k=7$ number of neighbors for your model.\n",
    "- Report model perfomance on train and test data, which is better, why?\n",
    "- Do you need to normalize the data for KNN model?\n",
    "- Elaborate on the result.\n",
    "\n",
    "\n",
    "**Hint** https://scikit-learn.org/stable/modules/generated/sklearn.neighbors.KNeighborsRegressor.html"
   ]
  },
  {
   "cell_type": "code",
   "execution_count": null,
   "metadata": {
    "deletable": false,
    "nbgrader": {
     "cell_type": "code",
     "checksum": "ef5114f4e80f7f3f64d0e319fa6a2515",
     "grade": false,
     "grade_id": "cell-3e50a645aa17213e",
     "locked": false,
     "schema_version": 3,
     "solution": true,
     "task": false
    }
   },
   "outputs": [],
   "source": [
    "# make imports\n",
    "\n",
    "# your code here"
   ]
  },
  {
   "cell_type": "code",
   "execution_count": null,
   "metadata": {
    "deletable": false,
    "nbgrader": {
     "cell_type": "code",
     "checksum": "791df962b7dfa173db7c53569cd2306d",
     "grade": false,
     "grade_id": "cell-5633587f4a2b0ce7",
     "locked": false,
     "schema_version": 3,
     "solution": true,
     "task": false
    }
   },
   "outputs": [],
   "source": [
    "# train the model\n",
    "\n",
    "# your code here"
   ]
  },
  {
   "cell_type": "code",
   "execution_count": null,
   "metadata": {
    "deletable": false,
    "nbgrader": {
     "cell_type": "code",
     "checksum": "3bfbdc5f617916d0e268f1b483bf49d9",
     "grade": false,
     "grade_id": "cell-0bfe55a9cac5ccb8",
     "locked": false,
     "schema_version": 3,
     "solution": true,
     "task": false
    }
   },
   "outputs": [],
   "source": [
    "# Report KNN perfomance\n",
    "\n",
    "# your code here"
   ]
  },
  {
   "cell_type": "code",
   "execution_count": null,
   "metadata": {},
   "outputs": [],
   "source": [
    "# Have you used normalized or unnormalized data, why?\n"
   ]
  },
  {
   "cell_type": "code",
   "execution_count": null,
   "metadata": {},
   "outputs": [],
   "source": [
    "# Elaborate on the result, how it is compare to linear models?\n"
   ]
  },
  {
   "cell_type": "code",
   "execution_count": null,
   "metadata": {},
   "outputs": [],
   "source": []
  },
  {
   "cell_type": "markdown",
   "metadata": {},
   "source": [
    "### 22. Cross-Validation. \n",
    "\n",
    "You have heard that using so-called **k-fold** procedure is a good idea:\n",
    "\n",
    "- Estimate performance of Linear Regression and K Nearest Neighbors using **3-fold** cross-validation on **training data**.\n",
    "- How do the CV-scores compare to the scores on the **test set** that we have obtained previously? \n",
    "\n",
    "> When the score estimates obtained using train data only (like the CV score here) are better than on the hold out set, we say that they are _optimistic_. Conversly, if they are lower - _pessimistic_. This terminology stems from the principle that the hold-out set provides the most reasonable estimate of the model's performance on the new data.\n",
    "\n",
    ">So the idea is the following:\n",
    ">- Divide data into **train** and **test** (hold-out) parts\n",
    ">- Using k-fold procedure on **train** set choose model parameters (such as k in KNN, or $\\alpha$ in Ridge and Lasso)\n",
    ">- Estimate model perfomance using **test** set.\n",
    "\n",
    "**Hint** you can use `cross_val_score` function from `sklearn.model_selection` module but pay attention to its parameters.\n",
    "\n",
    "**Hint** use scaled data."
   ]
  },
  {
   "cell_type": "code",
   "execution_count": null,
   "metadata": {
    "deletable": false,
    "nbgrader": {
     "cell_type": "code",
     "checksum": "54dcc5a7a228138b385588a8446363e6",
     "grade": false,
     "grade_id": "cell-f9735b3e316c5843",
     "locked": false,
     "schema_version": 3,
     "solution": true,
     "task": false
    }
   },
   "outputs": [],
   "source": [
    "# make imports\n",
    "\n",
    "# your code here"
   ]
  },
  {
   "cell_type": "code",
   "execution_count": null,
   "metadata": {
    "deletable": false,
    "nbgrader": {
     "cell_type": "code",
     "checksum": "27f7c24307257b73b2aa0d89484d3021",
     "grade": false,
     "grade_id": "cell-f620445b9677d300",
     "locked": false,
     "schema_version": 3,
     "solution": true,
     "task": false
    }
   },
   "outputs": [],
   "source": [
    "# [Graded] Estimate performance of Linear Regression 3 fold CV on train data\n",
    "\n",
    "answer_22_1_mse_lr_cv = '...'\n",
    "\n",
    "# your code here"
   ]
  },
  {
   "cell_type": "code",
   "execution_count": null,
   "metadata": {
    "deletable": false,
    "editable": false,
    "nbgrader": {
     "cell_type": "code",
     "checksum": "eb25426faabf8d78493e0b6c327d2948",
     "grade": true,
     "grade_id": "cell-46c20d6ec6c89a46",
     "locked": true,
     "points": 1,
     "schema_version": 3,
     "solution": false,
     "task": false
    }
   },
   "outputs": [],
   "source": [
    "# Grading"
   ]
  },
  {
   "cell_type": "code",
   "execution_count": null,
   "metadata": {
    "deletable": false,
    "nbgrader": {
     "cell_type": "code",
     "checksum": "e8e96fecc794d484fb2e993fe1459b9c",
     "grade": false,
     "grade_id": "cell-6b134ba120cd53c8",
     "locked": false,
     "schema_version": 3,
     "solution": true,
     "task": false
    }
   },
   "outputs": [],
   "source": [
    "# [Graded] Compare CV perfomance of the linear model with perfomance on test\n",
    "\n",
    "answer_22_2_mse_lr_test = '...'\n",
    "\n",
    "# your code here"
   ]
  },
  {
   "cell_type": "code",
   "execution_count": null,
   "metadata": {
    "deletable": false,
    "editable": false,
    "nbgrader": {
     "cell_type": "code",
     "checksum": "6e1de92864364c20ace4c01498d6320a",
     "grade": true,
     "grade_id": "cell-8ea8f902b89bc58b",
     "locked": true,
     "points": 1,
     "schema_version": 3,
     "solution": false,
     "task": false
    }
   },
   "outputs": [],
   "source": [
    "# Grading"
   ]
  },
  {
   "cell_type": "code",
   "execution_count": null,
   "metadata": {
    "deletable": false,
    "nbgrader": {
     "cell_type": "code",
     "checksum": "f80a75c8a7b19096058a0673204928f6",
     "grade": false,
     "grade_id": "cell-17bc674b7cf97568",
     "locked": false,
     "schema_version": 3,
     "solution": true,
     "task": false
    }
   },
   "outputs": [],
   "source": [
    "# [Graded] Estimate performance of KNN 3 fold CV on train data\n",
    "\n",
    "answer_22_3_knn_cv = '...'\n",
    "\n",
    "# your code here"
   ]
  },
  {
   "cell_type": "code",
   "execution_count": null,
   "metadata": {
    "deletable": false,
    "editable": false,
    "nbgrader": {
     "cell_type": "code",
     "checksum": "bcad06ff90c2b1a8c5d1f89f98c2da5d",
     "grade": true,
     "grade_id": "cell-d5556fcebab58090",
     "locked": true,
     "points": 1,
     "schema_version": 3,
     "solution": false,
     "task": false
    }
   },
   "outputs": [],
   "source": [
    "# Grading"
   ]
  },
  {
   "cell_type": "code",
   "execution_count": null,
   "metadata": {
    "deletable": false,
    "nbgrader": {
     "cell_type": "code",
     "checksum": "4aaceb7207647b0fb8b7f56277f90a61",
     "grade": false,
     "grade_id": "cell-2775af592d9690d4",
     "locked": false,
     "schema_version": 3,
     "solution": true,
     "task": false
    }
   },
   "outputs": [],
   "source": [
    "# [Graded] Compare CV perfomance of the KNN model with perfomance on test\n",
    "\n",
    "answer_22_4_knn_test = '...'\n",
    "\n",
    "# your code here"
   ]
  },
  {
   "cell_type": "code",
   "execution_count": null,
   "metadata": {
    "deletable": false,
    "editable": false,
    "nbgrader": {
     "cell_type": "code",
     "checksum": "5a1b7cb15f61a7687eacd4eab6d1975a",
     "grade": true,
     "grade_id": "cell-4a950db37ce18470",
     "locked": true,
     "points": 1,
     "schema_version": 3,
     "solution": false,
     "task": false
    }
   },
   "outputs": [],
   "source": [
    "# Grading"
   ]
  },
  {
   "cell_type": "code",
   "execution_count": null,
   "metadata": {},
   "outputs": [],
   "source": []
  },
  {
   "cell_type": "markdown",
   "metadata": {},
   "source": [
    "### 23. Tuning hyperparameters with cross-validation.\n",
    "\n",
    ">You might have already noticed that some parameters of the machine learning algorithm are set beforehand (like number of neighbors in KNN), while others are determined during traing (linear regression weights). The first type of parameters apply to the training process itself and, thus, indirectly influence the second type.\n",
    "How to select values for them then? Since these parameters are defined before traing, fixed test set some values might work better for the than the others. One of the approaches to setting hyper-parameters is to use cross-validation. Using cross-validation we can get an estimate of the performance for the given cofiguration of the hyper-parameters eithout peeking at the test set. What's left is to consider a set of possible hyper-parameters settings and try them one-by-one, calculating the CV-score. We then select the configuration that performed best, train a model with these hyper-parameters on the full train data and calculate the final score on the test set.\n",
    "\n",
    "\n",
    "Your task is to find the best value of hyper-parameter $k$ for K Nearest Neighbors algorithm.\n",
    "\n",
    "- Use 3-fold cross-validation and a **range** $[3, 15]$ for the possible values of $k$.\n",
    "- Plot a dependency between **k** and **MSE** score.\n",
    "- Train KNN with best **k** on the whole **train**, predict on **test** and estimate the perfomance.\n",
    "- Compare **test** MSE score with **CV** MSE score\n",
    "- Elaborate on the results\n",
    "\n",
    "\n",
    "**Hint 1** You can use `GridSearchCV` class of `sklearn.model_selection` module to do the work for you.\n",
    "\n",
    "**Hint 2** Check out `n_jobs` parameter to train faster!"
   ]
  },
  {
   "cell_type": "code",
   "execution_count": null,
   "metadata": {
    "deletable": false,
    "nbgrader": {
     "cell_type": "code",
     "checksum": "63e1a2fb074e90bc3640fdab3e89b5cf",
     "grade": false,
     "grade_id": "cell-20c3c99523519e8f",
     "locked": false,
     "schema_version": 3,
     "solution": true,
     "task": false
    }
   },
   "outputs": [],
   "source": [
    "# [Graded] use GridSearchCV to evalute KNN perfomance with different k\n",
    "\n",
    "answer_23_1_k = '...'\n",
    "\n",
    "# your code here"
   ]
  },
  {
   "cell_type": "code",
   "execution_count": null,
   "metadata": {
    "deletable": false,
    "editable": false,
    "nbgrader": {
     "cell_type": "code",
     "checksum": "d9bf39d6b29e2bcdee76fcaab55142d5",
     "grade": true,
     "grade_id": "cell-1b0b3dff4afb5e96",
     "locked": true,
     "points": 1,
     "schema_version": 3,
     "solution": false,
     "task": false
    }
   },
   "outputs": [],
   "source": [
    "# Grading"
   ]
  },
  {
   "cell_type": "code",
   "execution_count": null,
   "metadata": {
    "deletable": false,
    "nbgrader": {
     "cell_type": "code",
     "checksum": "4556638056e720be0447530756e66400",
     "grade": false,
     "grade_id": "cell-10def0c2fef345e4",
     "locked": false,
     "schema_version": 3,
     "solution": true,
     "task": false
    }
   },
   "outputs": [],
   "source": [
    "# Plot the dependensy figure\n",
    "\n",
    "# your code here"
   ]
  },
  {
   "cell_type": "code",
   "execution_count": null,
   "metadata": {
    "deletable": false,
    "nbgrader": {
     "cell_type": "code",
     "checksum": "960e1bf19b257709fe5b365ea04addd9",
     "grade": false,
     "grade_id": "cell-9324e29757969916",
     "locked": false,
     "schema_version": 3,
     "solution": true,
     "task": false
    }
   },
   "outputs": [],
   "source": [
    "# [Graded] Evalute best model on test set\n",
    "\n",
    "answer_23_2_mse = '...'\n",
    "\n",
    "# your code here"
   ]
  },
  {
   "cell_type": "code",
   "execution_count": null,
   "metadata": {
    "deletable": false,
    "editable": false,
    "nbgrader": {
     "cell_type": "code",
     "checksum": "f3b159f0058652af5996e6a814e22966",
     "grade": true,
     "grade_id": "cell-bb6060226d7299e3",
     "locked": true,
     "points": 1,
     "schema_version": 3,
     "solution": false,
     "task": false
    }
   },
   "outputs": [],
   "source": [
    "# Grading"
   ]
  },
  {
   "cell_type": "code",
   "execution_count": null,
   "metadata": {},
   "outputs": [],
   "source": [
    "# Compare the test results with CV MSE score\n"
   ]
  },
  {
   "cell_type": "markdown",
   "metadata": {},
   "source": [
    "### 24. Tuning regularization parameters with cross-validation.\n",
    "\n",
    "You decided to tune parameters of your linear models, just as you tune KNN parameter.\n",
    "\n",
    "> If you look at `sklearn.linear_model` module, you will find `RidgeCV` and `LassoCV` classes. They implement cross-validation on the training data in their `fit` method, so you just need to specify the search domain for $\\alpha$ and the scoring rule. Everithing else is done under the hood. After you trained the model, the best value for $\\alpha$ will be stored in the `alpha_` attribute of the estimator.\n",
    "\n",
    "\n",
    "- Find the best regularization parameter for Ridge Regression and Lasso using this method.\n",
    "- Use $\\{10^{-6}, 10^{-5}, ... , 1, 10, ... , 10^6\\}$ as possible values for $\\alpha$.\n",
    "- How does the performance of the best models on CV compare to their perfomance on test set?\n",
    "- Plot a scatter plot of y_pred vs y_true on a test set for Lasso model.\n",
    "- Elaborate on the result. Does your model overstimate the house prices or understimate them?\n",
    "\n",
    "\n",
    "\n",
    "**Hint 1** Use 3-fold CV and Mean Squared Error as an error.\n",
    "\n",
    "**Hint 2** On a scatter plot you could also draw a line `y = x` to help your visual evaluation."
   ]
  },
  {
   "cell_type": "code",
   "execution_count": null,
   "metadata": {
    "deletable": false,
    "nbgrader": {
     "cell_type": "code",
     "checksum": "35d3cf3cd322da30f4bc45eb4f51f48b",
     "grade": false,
     "grade_id": "cell-32230630a37107ed",
     "locked": false,
     "schema_version": 3,
     "solution": true,
     "task": false
    }
   },
   "outputs": [],
   "source": [
    "# make imports\n",
    "\n",
    "# your code here"
   ]
  },
  {
   "cell_type": "code",
   "execution_count": null,
   "metadata": {
    "deletable": false,
    "nbgrader": {
     "cell_type": "code",
     "checksum": "d65b65d631553a7e8d114d8aee79a5fe",
     "grade": false,
     "grade_id": "cell-0673be516e4ef326",
     "locked": false,
     "schema_version": 3,
     "solution": true,
     "task": false
    }
   },
   "outputs": [],
   "source": [
    "# [Graded] Fit a Ridge model, what is best alpha score?\n",
    "\n",
    "answer_24_1_ridge_a = '...'\n",
    "answer_24_2_mse_ridge_best = '...'\n",
    "\n",
    "# your code here"
   ]
  },
  {
   "cell_type": "code",
   "execution_count": null,
   "metadata": {
    "deletable": false,
    "editable": false,
    "nbgrader": {
     "cell_type": "code",
     "checksum": "cfb55e255fe40fc90f34a20d931d4def",
     "grade": true,
     "grade_id": "cell-750a68017801f0f9",
     "locked": true,
     "points": 1,
     "schema_version": 3,
     "solution": false,
     "task": false
    }
   },
   "outputs": [],
   "source": [
    "# Grading"
   ]
  },
  {
   "cell_type": "code",
   "execution_count": null,
   "metadata": {
    "deletable": false,
    "editable": false,
    "nbgrader": {
     "cell_type": "code",
     "checksum": "02351cce79e7a625e259f2090e1e1176",
     "grade": true,
     "grade_id": "cell-410148c37667152a",
     "locked": true,
     "points": 1,
     "schema_version": 3,
     "solution": false,
     "task": false
    }
   },
   "outputs": [],
   "source": [
    "# Grading"
   ]
  },
  {
   "cell_type": "code",
   "execution_count": null,
   "metadata": {
    "deletable": false,
    "nbgrader": {
     "cell_type": "code",
     "checksum": "1bd55e4196d69c95581d9ede67adf73c",
     "grade": false,
     "grade_id": "cell-51325e3a6e9887ca",
     "locked": false,
     "schema_version": 3,
     "solution": true,
     "task": false
    }
   },
   "outputs": [],
   "source": [
    "# [Graded] Fit a Lasso model, what is best alpha score?\n",
    "\n",
    "answer_24_3_lasso_a = '...'\n",
    "answer_24_4_mse_lasso_best = '...'\n",
    "\n",
    "# your code here"
   ]
  },
  {
   "cell_type": "code",
   "execution_count": null,
   "metadata": {
    "deletable": false,
    "editable": false,
    "nbgrader": {
     "cell_type": "code",
     "checksum": "e84d44305257a808006abae87f8822b3",
     "grade": true,
     "grade_id": "cell-d350656d3ba60acb",
     "locked": true,
     "points": 1,
     "schema_version": 3,
     "solution": false,
     "task": false
    }
   },
   "outputs": [],
   "source": [
    "# Grading"
   ]
  },
  {
   "cell_type": "code",
   "execution_count": null,
   "metadata": {
    "deletable": false,
    "editable": false,
    "nbgrader": {
     "cell_type": "code",
     "checksum": "89c8145d0047d6ef16f056aaaf456546",
     "grade": true,
     "grade_id": "cell-2f38b4ee78933939",
     "locked": true,
     "points": 1,
     "schema_version": 3,
     "solution": false,
     "task": false
    }
   },
   "outputs": [],
   "source": [
    "# Grading"
   ]
  },
  {
   "cell_type": "code",
   "execution_count": null,
   "metadata": {},
   "outputs": [],
   "source": [
    "# Compare best Ridge model perfomance on CV and on a test set\n"
   ]
  },
  {
   "cell_type": "code",
   "execution_count": null,
   "metadata": {},
   "outputs": [],
   "source": [
    "# Compare best Lasso model perfomance on CV and on a test set\n"
   ]
  },
  {
   "cell_type": "code",
   "execution_count": null,
   "metadata": {},
   "outputs": [],
   "source": [
    "# Plot a scatter plot plt.scatter(y_true, y_predicted) for test observations\n",
    "    "
   ]
  },
  {
   "cell_type": "code",
   "execution_count": null,
   "metadata": {},
   "outputs": [],
   "source": []
  }
 ],
 "metadata": {
  "kernelspec": {
   "display_name": "Python 3",
   "language": "python",
   "name": "python3"
  },
  "language_info": {
   "codemirror_mode": {
    "name": "ipython",
    "version": 3
   },
   "file_extension": ".py",
   "mimetype": "text/x-python",
   "name": "python",
   "nbconvert_exporter": "python",
   "pygments_lexer": "ipython3",
   "version": "3.7.3"
  }
 },
 "nbformat": 4,
 "nbformat_minor": 2
}
